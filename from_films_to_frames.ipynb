{
 "cells": [
  {
   "cell_type": "markdown",
   "metadata": {},
   "source": [
    "This notebook is intended to transform the -mp4 files in the surreal to .jpg images"
   ]
  },
  {
   "cell_type": "code",
   "execution_count": 1,
   "metadata": {
    "collapsed": true
   },
   "outputs": [
    {
     "name": "stdout",
     "output_type": "stream",
     "text": [
      "1.0 frames\n",
      "2.0 frames\n",
      "3.0 frames\n",
      "4.0 frames\n",
      "5.0 frames\n",
      "6.0 frames\n",
      "7.0 frames\n",
      "8.0 frames\n",
      "9.0 frames\n",
      "10.0 frames\n",
      "11.0 frames\n",
      "12.0 frames\n",
      "13.0 frames\n",
      "14.0 frames\n",
      "15.0 frames\n",
      "16.0 frames\n",
      "17.0 frames\n",
      "18.0 frames\n",
      "19.0 frames\n",
      "20.0 frames\n",
      "21.0 frames\n",
      "22.0 frames\n",
      "23.0 frames\n",
      "24.0 frames\n",
      "25.0 frames\n",
      "26.0 frames\n",
      "27.0 frames\n",
      "28.0 frames\n",
      "29.0 frames\n",
      "30.0 frames\n",
      "31.0 frames\n",
      "32.0 frames\n",
      "33.0 frames\n",
      "34.0 frames\n",
      "35.0 frames\n",
      "36.0 frames\n",
      "37.0 frames\n",
      "38.0 frames\n",
      "39.0 frames\n",
      "40.0 frames\n",
      "41.0 frames\n",
      "42.0 frames\n",
      "43.0 frames\n",
      "44.0 frames\n",
      "45.0 frames\n",
      "46.0 frames\n",
      "47.0 frames\n",
      "48.0 frames\n",
      "49.0 frames\n",
      "50.0 frames\n",
      "51.0 frames\n",
      "52.0 frames\n",
      "53.0 frames\n",
      "54.0 frames\n",
      "55.0 frames\n",
      "56.0 frames\n",
      "57.0 frames\n",
      "58.0 frames\n",
      "59.0 frames\n",
      "60.0 frames\n",
      "61.0 frames\n",
      "62.0 frames\n",
      "63.0 frames\n",
      "64.0 frames\n",
      "65.0 frames\n",
      "66.0 frames\n",
      "67.0 frames\n",
      "68.0 frames\n",
      "69.0 frames\n",
      "70.0 frames\n",
      "71.0 frames\n",
      "72.0 frames\n",
      "73.0 frames\n",
      "74.0 frames\n",
      "75.0 frames\n",
      "76.0 frames\n",
      "77.0 frames\n",
      "78.0 frames\n",
      "79.0 frames\n",
      "80.0 frames\n",
      "81.0 frames\n",
      "82.0 frames\n",
      "83.0 frames\n",
      "84.0 frames\n",
      "85.0 frames\n",
      "86.0 frames\n",
      "87.0 frames\n",
      "88.0 frames\n",
      "89.0 frames\n",
      "90.0 frames\n",
      "91.0 frames\n",
      "92.0 frames\n",
      "93.0 frames\n",
      "94.0 frames\n",
      "95.0 frames\n",
      "96.0 frames\n",
      "97.0 frames\n",
      "98.0 frames\n",
      "99.0 frames\n",
      "100.0 frames\n"
     ]
    }
   ],
   "source": [
    "import cv2\n",
    "\n",
    "cap = cv2.VideoCapture(\"03_01_c0001.mp4\")\n",
    "while not cap.isOpened():\n",
    "    cap = cv2.VideoCapture(\"03_01_c0001.mp4\")\n",
    "    cv2.waitKey(1000)\n",
    "    print(\"Wait for the header\")\n",
    "\n",
    "pos_frame = cap.get(cv2.CAP_PROP_POS_FRAMES)\n",
    "while True:\n",
    "    flag, frame = cap.read()\n",
    "    if flag:\n",
    "        # The frame is ready and already captured\n",
    "        cv2.imshow('video', frame)\n",
    "        pos_frame = cap.get(cv2.CAP_PROP_POS_FRAMES)\n",
    "        print (str(pos_frame)+\" frames\")\n",
    "    else:\n",
    "        # The next frame is not ready, so we try to read it again\n",
    "        cap.set(cv2.CAP_PROP_POS_FRAMES, pos_frame-1)\n",
    "        print (\"frame is not ready\")\n",
    "        # It is better to wait for a while for the next frame to be ready\n",
    "        cv2.waitKey(1000)\n",
    "\n",
    "    if cv2.waitKey(10) == 27:\n",
    "        break\n",
    "    if cap.get(cv2.CAP_PROP_POS_FRAMES) == cap.get(cv2.CAP_PROP_FRAME_COUNT):\n",
    "        # If the number of captured frames is equal to the total number of frames,\n",
    "        # we stop\n",
    "        break\n"
   ]
  },
  {
   "cell_type": "code",
   "execution_count": 56,
   "metadata": {
    "collapsed": true
   },
   "outputs": [
    {
     "name": "stdout",
     "output_type": "stream",
     "text": [
      "3.4.0\n",
      "Read a new frame:  True\n",
      "Read a new frame:  True\n",
      "Read a new frame:  True\n",
      "Read a new frame:  True\n",
      "Read a new frame:  True\n",
      "Read a new frame:  True\n",
      "Read a new frame:  True\n",
      "Read a new frame:  True\n",
      "Read a new frame:  True\n",
      "Read a new frame:  True\n",
      "Read a new frame:  True\n",
      "Read a new frame:  True\n",
      "Read a new frame:  True\n",
      "Read a new frame:  True\n",
      "Read a new frame:  True\n",
      "Read a new frame:  True\n",
      "Read a new frame:  True\n",
      "Read a new frame:  True\n",
      "Read a new frame:  True\n",
      "Read a new frame:  True\n",
      "Read a new frame:  True\n",
      "Read a new frame:  True\n",
      "Read a new frame:  True\n",
      "Read a new frame:  True\n",
      "Read a new frame:  True\n",
      "Read a new frame:  True\n",
      "Read a new frame:  True\n",
      "Read a new frame:  True\n",
      "Read a new frame:  True\n",
      "Read a new frame:  True\n",
      "Read a new frame:  True\n",
      "Read a new frame:  True\n",
      "Read a new frame:  True\n",
      "Read a new frame:  True\n",
      "Read a new frame:  True\n",
      "Read a new frame:  True\n",
      "Read a new frame:  True\n",
      "Read a new frame:  True\n",
      "Read a new frame:  True\n",
      "Read a new frame:  True\n",
      "Read a new frame:  True\n",
      "Read a new frame:  True\n",
      "Read a new frame:  True\n",
      "Read a new frame:  True\n",
      "Read a new frame:  True\n",
      "Read a new frame:  True\n",
      "Read a new frame:  True\n",
      "Read a new frame:  True\n",
      "Read a new frame:  True\n",
      "Read a new frame:  True\n",
      "Read a new frame:  True\n",
      "Read a new frame:  True\n",
      "Read a new frame:  True\n",
      "Read a new frame:  True\n",
      "Read a new frame:  True\n",
      "Read a new frame:  True\n",
      "Read a new frame:  True\n",
      "Read a new frame:  True\n",
      "Read a new frame:  True\n",
      "Read a new frame:  True\n",
      "Read a new frame:  True\n",
      "Read a new frame:  True\n",
      "Read a new frame:  True\n",
      "Read a new frame:  True\n",
      "Read a new frame:  True\n",
      "Read a new frame:  True\n",
      "Read a new frame:  True\n",
      "Read a new frame:  True\n",
      "Read a new frame:  True\n",
      "Read a new frame:  True\n",
      "Read a new frame:  True\n",
      "Read a new frame:  True\n",
      "Read a new frame:  True\n",
      "Read a new frame:  True\n",
      "Read a new frame:  True\n",
      "Read a new frame:  True\n",
      "Read a new frame:  True\n",
      "Read a new frame:  True\n",
      "Read a new frame:  True\n",
      "Read a new frame:  True\n",
      "Read a new frame:  True\n",
      "Read a new frame:  True\n",
      "Read a new frame:  True\n",
      "Read a new frame:  True\n",
      "Read a new frame:  True\n",
      "Read a new frame:  True\n",
      "Read a new frame:  True\n",
      "Read a new frame:  True\n",
      "Read a new frame:  True\n",
      "Read a new frame:  True\n",
      "Read a new frame:  True\n",
      "Read a new frame:  True\n",
      "Read a new frame:  True\n",
      "Read a new frame:  True\n",
      "Read a new frame:  True\n",
      "Read a new frame:  True\n",
      "Read a new frame:  True\n",
      "Read a new frame:  True\n",
      "Read a new frame:  True\n"
     ]
    }
   ],
   "source": [
    "import cv2\n",
    "print(cv2.__version__)\n",
    "vidcap = cv2.VideoCapture('SURREAL/cmu/train/run0/01_01_use/01_01_c0001.mp4')\n",
    "success,image = vidcap.read()\n",
    "count = 0\n",
    "success = True\n",
    "while success:\n",
    "    cv2.imwrite(\"./frames/frame%d.jpg\" % count, image)     # save frame as JPEG file\n",
    "    success,image = vidcap.read()\n",
    "    print('Read a new frame: ', success)\n",
    "    count += 1"
   ]
  },
  {
   "cell_type": "code",
   "execution_count": 16,
   "metadata": {},
   "outputs": [
    {
     "name": "stdout",
     "output_type": "stream",
     "text": [
      "/home/blue/Documents/data_science_ub/tfm_data\r\n"
     ]
    }
   ],
   "source": [
    "!pwd"
   ]
  },
  {
   "cell_type": "code",
   "execution_count": 16,
   "metadata": {},
   "outputs": [
    {
     "data": {
      "text/plain": [
       "True"
      ]
     },
     "execution_count": 16,
     "metadata": {},
     "output_type": "execute_result"
    }
   ],
   "source": [
    "os.path.exists(\"./icnet/icnet_use_eval/data/val/01_02_c0006_12.jpg\")"
   ]
  },
  {
   "cell_type": "markdown",
   "metadata": {},
   "source": [
    "# Script for creating data"
   ]
  },
  {
   "cell_type": "markdown",
   "metadata": {},
   "source": [
    "### For frames"
   ]
  },
  {
   "cell_type": "code",
   "execution_count": 80,
   "metadata": {},
   "outputs": [],
   "source": [
    "def frame_capture(name, direc, init_dir):\n",
    "    real_name = os.path.join(init_dir,name)\n",
    "    vidcap = cv2.VideoCapture(real_name)\n",
    "    success,image = vidcap.read()\n",
    "    count = 1\n",
    "    success = True\n",
    "    while success:\n",
    "        frame_name = name.split(\".\")[0] + \"_\" + str(count) + \".jpg\"\n",
    "        if not os.path.exists(os.path.join(direc, frame_name)):\n",
    "            cv2.imwrite(os.path.join(direc, frame_name), image)     # save frame as JPEG file\n",
    "        success,image = vidcap.read()\n",
    "        count += 1"
   ]
  },
  {
   "cell_type": "markdown",
   "metadata": {},
   "source": [
    "### For matrices"
   ]
  },
  {
   "cell_type": "code",
   "execution_count": 122,
   "metadata": {},
   "outputs": [
    {
     "data": {
      "image/png": "[encoded data removed]",
      "text/plain": [
       "<matplotlib.figure.Figure at 0x7f39dadaf588>"
      ]
     },
     "metadata": {},
     "output_type": "display_data"
    }
   ],
   "source": [
    "for key in im.keys():\n",
    "    if key[0] is not \"_\":\n",
    "        plt.imshow(im[key])"
   ]
  },
  {
   "cell_type": "code",
   "execution_count": 17,
   "metadata": {},
   "outputs": [],
   "source": [
    "import imageio"
   ]
  },
  {
   "cell_type": "code",
   "execution_count": 81,
   "metadata": {},
   "outputs": [],
   "source": [
    "def to_image(name, direc, init_dir):\n",
    "    real_name = os.path.join(init_dir,name)\n",
    "    im = sc.io.loadmat(real_name)\n",
    "\n",
    "    for key in im.keys():\n",
    "        if key[0] is not \"_\":\n",
    "            number = key.split(\"_\")[1]\n",
    "            frame_name = name.split(\".\")[0] + \"_\" + str(number) + \".png\"\n",
    "            if not os.path.exists(os.path.join(direc, frame_name)):\n",
    "                imageio.imwrite(os.path.join(direc, frame_name), im[key])\n",
    "   "
   ]
  },
  {
   "cell_type": "code",
   "execution_count": 74,
   "metadata": {},
   "outputs": [],
   "source": [
    "to_image('ung_85_01_c0001_segm.mat',\"./try/\" ,'SURREAL/cmu/train/run0/ung_85_01/')"
   ]
  },
  {
   "cell_type": "code",
   "execution_count": 76,
   "metadata": {},
   "outputs": [
    {
     "data": {
      "text/plain": [
       "Image([ 0,  1,  2,  3,  4,  5,  6,  7,  8,  9, 10, 11, 13, 14, 15, 16, 17,\n",
       "       18, 19, 20, 21, 22, 23, 24], dtype=uint8)"
      ]
     },
     "execution_count": 76,
     "metadata": {},
     "output_type": "execute_result"
    }
   ],
   "source": [
    "np.unique(imageio.imread('try/ung_85_01_c0001_segm_1.png'))"
   ]
  },
  {
   "cell_type": "markdown",
   "metadata": {},
   "source": [
    "### Initial try"
   ]
  },
  {
   "cell_type": "code",
   "execution_count": 14,
   "metadata": {},
   "outputs": [],
   "source": [
    "import os\n",
    "import cv2"
   ]
  },
  {
   "cell_type": "code",
   "execution_count": 13,
   "metadata": {},
   "outputs": [],
   "source": [
    "final_dir = \"./SURREAL/cmu/train/run_try_train/train\"\n",
    "final_dir_anot = \"./SURREAL/cmu/train/run_try_train/train_anot\"\n",
    "init_try = \"./SURREAL/cmu/train/run0/01_01_use/\"\n",
    "\n",
    "init_try_val = \"./SURREAL/cmu/train/run0/01_02_use/\"\n",
    "final_dir_eval = \"./SURREAL/cmu/train/run_try_val/val\"\n",
    "final_dir_eval_anot = \"./SURREAL/cmu/train/run_try_val/val_anot\""
   ]
  },
  {
   "cell_type": "code",
   "execution_count": 19,
   "metadata": {},
   "outputs": [],
   "source": [
    "for file in os.listdir(init_try_val):\n",
    "    if file.endswith(\".mp4\"):\n",
    "        frame_capture(file, final_dir_eval, init_try_val)"
   ]
  },
  {
   "cell_type": "code",
   "execution_count": 21,
   "metadata": {},
   "outputs": [],
   "source": [
    "for file in os.listdir(init_try_val):\n",
    "    if file.endswith(\"segm.mat\"):\n",
    "        to_image(file,final_dir_eval_anot,init_try_val)"
   ]
  },
  {
   "cell_type": "code",
   "execution_count": 14,
   "metadata": {},
   "outputs": [],
   "source": [
    "import re"
   ]
  },
  {
   "cell_type": "markdown",
   "metadata": {},
   "source": [
    "###  for making train list"
   ]
  },
  {
   "cell_type": "code",
   "execution_count": 15,
   "metadata": {},
   "outputs": [],
   "source": [
    "namy = \"list_try_val.txt\"\n",
    "text_file = open(os.path.join(final_dir_eval,\"..\",namy), \"w\")\n",
    "\n",
    "for file in os.listdir(final_dir_eval):\n",
    "    if re.search(r'.+segm\\_\\d+\\.jpg$', file) is None:\n",
    "        parts = file.split(\"_\")\n",
    "        alter = final_dir_eval_anot.split(\"/\")[-1] +\"/\" + \"_\".join(parts[0:3]) + \"_segm_\" + parts[3]\n",
    "        namelo = final_dir_eval.split(\"/\")[-1] + \"/\" + file\n",
    "        text_file.write(\"{} {}\\n\".format(namelo, alter))\n",
    "        \n",
    "text_file.close()"
   ]
  },
  {
   "cell_type": "code",
   "execution_count": 5,
   "metadata": {},
   "outputs": [
    {
     "data": {
      "text/plain": [
       "'..'"
      ]
     },
     "execution_count": 5,
     "metadata": {},
     "output_type": "execute_result"
    }
   ],
   "source": [
    "os.pardir"
   ]
  },
  {
   "cell_type": "code",
   "execution_count": 2,
   "metadata": {},
   "outputs": [],
   "source": [
    "def make_list(namy, final_dir_eval, final_dir_eval_anot):\n",
    "    #pasar nombre de lista\n",
    "    #y la path de la carpeta samples\n",
    "    text_file = open(os.path.join(final_dir_eval,\"..\",namy), \"w\")\n",
    "\n",
    "    for file in os.listdir(final_dir_eval):\n",
    "        if re.search(r'.+segm\\_\\d+\\.jpg$', file) is None:\n",
    "            parts = file.split(\"_\")\n",
    "            if not file.startswith(\"ung\"):\n",
    "                alter = final_dir_eval_anot.split(\"/\")[-1] +\"/\" + \"_\".join(parts[0:3]) + \"_segm_\" + parts[3:]\n",
    "            else:\n",
    "                alter = final_dir_eval_anot.split(\"/\")[-1] +\"/\" + \"_\".join(parts[0:4]) + \"_segm_\" + parts[4:]\n",
    "            \n",
    "            namelo = final_dir_eval.split(\"/\")[-1] + \"/\" + file\n",
    "            text_file.write(\"{} {}\\n\".format(namelo, alter))\n",
    "\n",
    "    text_file.close()\n",
    "    "
   ]
  },
  {
   "cell_type": "markdown",
   "metadata": {},
   "source": [
    "# Para el dataset entero"
   ]
  },
  {
   "cell_type": "code",
   "execution_count": 2,
   "metadata": {},
   "outputs": [],
   "source": [
    "import os\n",
    "import shutil\n",
    "import re\n",
    "import cv2\n",
    "import scipy as sc\n",
    "import scipy.io as scio\n",
    "import numpy as np\n",
    "import matplotlib.pyplot as plt\n",
    "import imageio"
   ]
  },
  {
   "cell_type": "code",
   "execution_count": 85,
   "metadata": {},
   "outputs": [],
   "source": [
    "def frame_capture(name, direc, init_dir):\n",
    "    real_name = os.path.join(init_dir,name)\n",
    "    vidcap = cv2.VideoCapture(real_name)\n",
    "    success,image = vidcap.read()\n",
    "    count = 1\n",
    "    success = True\n",
    "    while success:\n",
    "        frame_name = name.split(\".\")[0] + \"_\" + str(count) + \".jpg\"\n",
    "        if not os.path.exists(os.path.join(direc, frame_name)):\n",
    "            cv2.imwrite(os.path.join(direc, frame_name), image)     # save frame as JPEG file\n",
    "        success,image = vidcap.read()\n",
    "        count += 1"
   ]
  },
  {
   "cell_type": "code",
   "execution_count": 86,
   "metadata": {},
   "outputs": [],
   "source": [
    "def to_image(name, direc, init_dir):\n",
    "    real_name = os.path.join(init_dir,name)\n",
    "    im = sc.io.loadmat(real_name)\n",
    "\n",
    "    for key in im.keys():\n",
    "        if key[0] is not \"_\":\n",
    "            number = key.split(\"_\")[1]\n",
    "            frame_name = name.split(\".\")[0] + \"_\" + str(number) + \".png\"\n",
    "            if not os.path.exists(os.path.join(direc, frame_name)):\n",
    "                imageio.imwrite(os.path.join(direc, frame_name), im[key])\n",
    "            "
   ]
  },
  {
   "cell_type": "code",
   "execution_count": 87,
   "metadata": {},
   "outputs": [],
   "source": [
    "def make_dataset(one_dir):\n",
    "    offset = os.path.join(one_dir, os.pardir)\n",
    " \n",
    "    new_dirs = [ os.path.join(offset,one_dir.split(\"/\")[-1] + \"_complete\",\"run0\"),\n",
    "                os.path.join(offset,one_dir.split(\"/\")[-1] + \"_complete\",\"run1\"),\n",
    "                os.path.join(offset,one_dir.split(\"/\")[-1] + \"_complete\",\"run2\")]\n",
    "    one_dirs = [os.path.join(one_dir,\"run0/\"),os.path.join(one_dir,\"run1/\"),os.path.join(one_dir,\"run2/\")]\n",
    "    \n",
    "    print(\"recreating structure\")\n",
    "    #extends structure to sample and annotation\n",
    "    new_dirs_sample = []\n",
    "    new_dirs_anot = []\n",
    "    \n",
    "    for i in new_dirs:\n",
    "        new_dirs_sample.append(os.path.join(i, \"sample\"))\n",
    "        new_dirs_anot.append(os.path.join(i, \"annotations\"))\n",
    "        \n",
    "    #make m new\n",
    "    for i in new_dirs_sample:\n",
    "        if not os.path.exists(i):\n",
    "            os.makedirs(i)\n",
    "    for i in new_dirs_anot:\n",
    "        if not os.path.exists(i):\n",
    "            os.makedirs(i)\n",
    "        \n",
    "    print(\"dataset begins\")\n",
    "    for i in range(len(one_dirs)):\n",
    "        print(\"ended\")\n",
    "        print(\"-\"*10,len(os.listdir(one_dirs[i])))\n",
    "        counter = 0\n",
    "        #manual solo run0\n",
    "        if i == 0:\n",
    "            for dirr_2 in os.listdir(one_dirs[i]):\n",
    "                counter += 1\n",
    "                if counter % 50 == 0: print(counter)\n",
    "                for file in os.listdir(os.path.join(one_dirs[i],dirr_2)):\n",
    "                    init_try = os.path.join(one_dirs[i],dirr_2)\n",
    "                    if file.endswith(\".mp4\"):\n",
    "                        frame_capture(file, new_dirs_sample[i], init_try )\n",
    "                    if file.endswith(\"segm.mat\"):\n",
    "                        to_image(file,new_dirs_anot[i],init_try)"
   ]
  },
  {
   "cell_type": "code",
   "execution_count": 94,
   "metadata": {},
   "outputs": [],
   "source": [
    "init_dir = \"./SURREAL/cmu/test\""
   ]
  },
  {
   "cell_type": "code",
   "execution_count": 95,
   "metadata": {
    "scrolled": true
   },
   "outputs": [
    {
     "name": "stdout",
     "output_type": "stream",
     "text": [
      "recreating structure\n",
      "dataset begins\n",
      "ended\n",
      "---------- 703\n",
      "50\n",
      "100\n",
      "150\n",
      "200\n",
      "250\n",
      "300\n",
      "350\n",
      "400\n",
      "450\n",
      "500\n",
      "550\n",
      "600\n",
      "650\n",
      "700\n",
      "ended\n",
      "---------- 703\n",
      "ended\n",
      "---------- 703\n"
     ]
    }
   ],
   "source": [
    "make_dataset(init_dir)"
   ]
  },
  {
   "cell_type": "code",
   "execution_count": null,
   "metadata": {},
   "outputs": [],
   "source": []
  }
 ],
 "metadata": {
  "kernelspec": {
   "display_name": "Python 3",
   "language": "python",
   "name": "python3"
  },
  "language_info": {
   "codemirror_mode": {
    "name": "ipython",
    "version": 3
   },
   "file_extension": ".py",
   "mimetype": "text/x-python",
   "name": "python",
   "nbconvert_exporter": "python",
   "pygments_lexer": "ipython3",
   "version": "3.6.3"
  }
 },
 "nbformat": 4,
 "nbformat_minor": 2
}
