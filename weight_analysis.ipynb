{
 "cells": [
  {
   "cell_type": "code",
   "execution_count": 122,
   "metadata": {},
   "outputs": [],
   "source": [
    "import numpy as np\n",
    "import matplotlib.pyplot as plt\n",
    "from imageio import imread"
   ]
  },
  {
   "cell_type": "code",
   "execution_count": 123,
   "metadata": {},
   "outputs": [],
   "source": [
    "pred = np.load(\"./pred/ung_133_07_c0001_segm_42.png.npy\")\n",
    "gt = imread(\"./pred/ung_133_07_c0001_segm_42.png\")"
   ]
  },
  {
   "cell_type": "code",
   "execution_count": 124,
   "metadata": {},
   "outputs": [],
   "source": [
    "pred = pred.squeeze()"
   ]
  },
  {
   "cell_type": "code",
   "execution_count": 125,
   "metadata": {},
   "outputs": [],
   "source": [
    "predy = pred.argmax(2).squeeze()"
   ]
  },
  {
   "cell_type": "code",
   "execution_count": 126,
   "metadata": {},
   "outputs": [
    {
     "data": {
      "text/plain": [
       "<matplotlib.image.AxesImage at 0x7fa1ecba7198>"
      ]
     },
     "execution_count": 126,
     "metadata": {},
     "output_type": "execute_result"
    },
    {
     "data": {
      "image/png": "[encoded data removed]",
      "text/plain": [
       "<Figure size 720x720 with 1 Axes>"
      ]
     },
     "metadata": {},
     "output_type": "display_data"
    }
   ],
   "source": [
    "plt.figure(figsize=(10,10))\n",
    "plt.imshow(predy)"
   ]
  },
  {
   "cell_type": "code",
   "execution_count": 127,
   "metadata": {},
   "outputs": [
    {
     "data": {
      "text/plain": [
       "array([ 0,  1,  2,  3,  4,  5,  6,  7,  8,  9, 10, 13, 14, 16, 17, 19, 21,\n",
       "       23])"
      ]
     },
     "execution_count": 127,
     "metadata": {},
     "output_type": "execute_result"
    }
   ],
   "source": [
    "np.unique(predy)"
   ]
  },
  {
   "cell_type": "code",
   "execution_count": 128,
   "metadata": {},
   "outputs": [
    {
     "data": {
      "text/plain": [
       "18"
      ]
     },
     "execution_count": 128,
     "metadata": {},
     "output_type": "execute_result"
    }
   ],
   "source": [
    "len(np.unique(predy))"
   ]
  },
  {
   "cell_type": "code",
   "execution_count": 129,
   "metadata": {},
   "outputs": [],
   "source": [
    "l = len(np.unique(predy))"
   ]
  },
  {
   "cell_type": "markdown",
   "metadata": {},
   "source": [
    "## Analysis"
   ]
  },
  {
   "cell_type": "code",
   "execution_count": 130,
   "metadata": {},
   "outputs": [],
   "source": [
    "x,y = np.where(predy==1)"
   ]
  },
  {
   "cell_type": "code",
   "execution_count": 131,
   "metadata": {},
   "outputs": [
    {
     "data": {
      "text/plain": [
       "array([ 2.0446677 ,  2.739454  , -2.7032619 , -4.306618  ,  2.3976746 ,\n",
       "       -3.1273875 , -3.2284694 , -1.9441148 , -4.7517424 , -4.2154026 ,\n",
       "       -3.5228617 , -5.773826  , -2.7951102 , -3.516339  , -4.957579  ,\n",
       "       -3.5635555 , -3.5036306 , -2.9100678 , -0.26114988, -2.6521802 ,\n",
       "       -0.26174116, -4.6015444 , -2.8772957 , -4.1437826 , -3.0483499 ],\n",
       "      dtype=float32)"
      ]
     },
     "execution_count": 131,
     "metadata": {},
     "output_type": "execute_result"
    }
   ],
   "source": [
    "pred[x[0],y[0],:]"
   ]
  },
  {
   "cell_type": "code",
   "execution_count": 132,
   "metadata": {},
   "outputs": [],
   "source": [
    "matrix_values = np.zeros((l-1,25))\n",
    "matrix_gt = np.zeros((l-1,25))"
   ]
  },
  {
   "cell_type": "code",
   "execution_count": 133,
   "metadata": {},
   "outputs": [],
   "source": [
    "for i in range(l-1):\n",
    "    x,y = np.where(predy==np.unique(predy)[i])\n",
    "    matrix_values[i,:] = pred[x[0],y[0],:]\n",
    "    a = np.zeros(25)\n",
    "    a[i] = 1\n",
    "    matrix_gt[i,:] = a\n",
    "        "
   ]
  },
  {
   "cell_type": "code",
   "execution_count": 134,
   "metadata": {},
   "outputs": [
    {
     "data": {
      "text/plain": [
       "array([[ 6.87911892, -2.64057374, -3.08065963, -2.87960315, -4.02018547,\n",
       "        -2.78438616, -2.78104806, -3.24468255, -2.7452929 , -2.50143099,\n",
       "        -3.01476908, -2.59213638, -1.54695308, -4.28009367, -4.03058624,\n",
       "        -4.29299879, -1.84998846, -4.00684357, -4.01977491, -3.49622679,\n",
       "        -3.25865841, -2.94242454, -2.60674095, -2.02664852, -1.71801758],\n",
       "       [ 2.04466772,  2.73945403, -2.70326185, -4.30661821,  2.39767456,\n",
       "        -3.12738752, -3.22846937, -1.9441148 , -4.75174236, -4.2154026 ,\n",
       "        -3.52286172, -5.77382612, -2.79511023, -3.51633906, -4.95757914,\n",
       "        -3.56355548, -3.50363064, -2.9100678 , -0.26114988, -2.65218019,\n",
       "        -0.26174116, -4.60154438, -2.87729573, -4.14378262, -3.04834986],\n",
       "       [ 0.07478571,  2.6757338 ,  2.7885232 , -1.24613106, -2.86441803,\n",
       "        -2.70169663, -6.4489727 , -4.65469074, -1.8157115 , -4.21474838,\n",
       "        -3.71603107, -4.10083246, -4.39661694, -6.25296974, -4.11733961,\n",
       "        -5.25426054, -5.16539812, -2.46189117, -4.64826536, -1.59716666,\n",
       "        -3.98194313,  1.49405241, -0.33193707, -0.48600304, -1.99556231],\n",
       "       [ 1.73028994,  2.38721871,  0.34249926,  2.40261292, -1.8052125 ,\n",
       "        -3.60062027, -2.9133985 , -2.14305449, -4.98616505, -4.48967266,\n",
       "        -3.28728843, -4.42837667, -3.6935122 , -5.14716053, -5.43080711,\n",
       "        -5.48291016, -2.98497081, -4.57334805, -5.29657984, -2.06686878,\n",
       "        -2.62725496, -1.97927904, -1.96382356, -1.85976362, -1.61128712],\n",
       "       [ 2.56343508, -1.83315694, -2.41979265, -5.03964996,  2.87119627,\n",
       "        -2.94527912, -4.50077343,  2.43694425, -5.24517298, -5.56245708,\n",
       "        -0.20789194, -4.91482449, -2.52334833, -2.16085887, -3.93548298,\n",
       "        -3.37708879, -2.34936142, -1.71664906, -1.05199552, -2.81115007,\n",
       "        -2.44593406, -4.69540882, -4.358356  , -4.5661273 , -4.71523905],\n",
       "       [ 1.93672848, -2.53616357,  2.82993793,  1.13443637, -5.28946686,\n",
       "         3.09824419,  1.62545919, -5.9102006 , -1.99658108, -2.25709701,\n",
       "        -5.94583368, -3.02373886, -2.45705986, -4.92289448, -6.17745113,\n",
       "        -5.83644056, -4.87882662, -4.33184242, -4.08140421, -3.14089084,\n",
       "        -3.57903528, -2.50275946, -2.8923049 , -2.20636559, -2.32729483],\n",
       "       [ 2.80449629, -2.4583497 ,  2.58729839,  1.30649161, -4.64167976,\n",
       "         2.65128231,  3.17591715, -4.73482275, -3.29922342, -2.26749635,\n",
       "        -5.23916817, -2.94593215, -2.62505293, -4.86740351, -5.90115023,\n",
       "        -5.24012899, -5.57081509, -4.27792358, -3.03319788, -3.18718839,\n",
       "        -3.46609902, -4.10527754, -4.48836517, -2.8798461 , -2.95161533],\n",
       "       [ 2.63003922, -2.99767017, -2.73772311, -5.62754726, -0.06977463,\n",
       "        -3.32189393, -4.71541595,  2.64491868, -4.28344107, -4.53791094,\n",
       "         2.18933916, -4.12066269, -2.66308117, -1.78687763, -1.73603129,\n",
       "        -2.46703291, -2.54155684, -1.54562593, -1.77255893, -3.02595186,\n",
       "        -3.14167285, -4.69966793, -4.85276127, -4.95300961, -5.32440329],\n",
       "       [ 6.34130335, -3.56533957, -2.70619798, -8.40981865, -9.01281738,\n",
       "         7.03529978,  1.39125538, -9.85990715,  7.35850906,  3.313658  ,\n",
       "        -4.60396814,  2.02414656,  0.67176294, -4.18455601,  0.02979422,\n",
       "        -6.33753681, -4.36261463, -2.55250573, -8.73753929, -1.93015444,\n",
       "        -7.23453426, -3.42447329, -6.84903669, -3.98767185, -6.27676058],\n",
       "       [ 4.06628704, -4.94367218, -3.79340935, -3.65823817, -8.66991043,\n",
       "         1.62616873,  3.73733521, -8.18162727,  2.02174115,  4.14026737,\n",
       "        -4.50916004, -1.11110544,  0.22761726, -4.89883852, -2.53927374,\n",
       "        -4.77395821, -3.53917694, -3.91751075, -4.02559948, -4.41308165,\n",
       "        -3.38125372, -4.35245895, -2.7287612 , -4.89241123, -3.32144332],\n",
       "       [ 0.56503916, -3.45546317, -3.55133939, -5.01741028, -4.76085424,\n",
       "        -1.23448205, -2.84024072, -3.0407939 , -2.16216564, -2.3905561 ,\n",
       "         0.84216261, -3.25725818, -2.71462536,  0.66929102, -0.08074427,\n",
       "        -3.27497435, -1.6454277 , -1.80973434, -3.99592686, -2.69318819,\n",
       "        -3.97061872, -3.58262467, -4.35334301, -3.82719636, -3.94469452],\n",
       "       [ 1.29838085, -3.57963681, -5.69964743, -3.7816534 , -3.35402679,\n",
       "        -1.0574975 , -2.32476449, -3.45780373, -2.82942915, -2.77254796,\n",
       "        -1.4690479 , -3.85105133, -2.27416325,  2.32394886, -3.27703428,\n",
       "        -5.32114124,  2.13945985, -2.05559874, -4.22830582, -2.88318753,\n",
       "        -4.11920071, -3.48067069, -3.40775156, -3.24372244, -2.90145063],\n",
       "       [ 0.84849548, -3.12441015, -1.72982812, -5.53582096, -5.45012856,\n",
       "        -1.37526143, -3.76227617, -2.36067486, -1.21929669, -2.60272336,\n",
       "         1.79521608, -2.19300127, -2.99890757, -1.93771696,  1.83831358,\n",
       "        -1.52026176, -4.0792408 , -1.37552619, -3.63783979, -2.85657215,\n",
       "        -4.49900675, -3.67306852, -5.34871864, -3.90205693, -4.76604652],\n",
       "       [ 3.91693473, -2.08081675, -6.07007551, -0.6794939 , -2.42540121,\n",
       "        -2.90030313, -2.86530137, -1.25263739, -3.34160948, -3.42867565,\n",
       "        -2.24166155, -3.12810254, -2.20736551, -1.73932195, -1.40256691,\n",
       "        -3.84235573,  4.09590054, -1.6798737 , -4.49193001, -4.54017639,\n",
       "        -5.18493462, -5.3773284 , -4.62939405, -4.55862045, -3.53181529],\n",
       "       [-1.07138538, -3.90855837, -2.39715099, -4.69863415, -4.36886835,\n",
       "        -0.94367707, -4.36896038, -2.40120196, -1.2477926 , -4.55807781,\n",
       "        -0.20375156, -3.35986996, -5.94497824, -4.49004078,  3.1925025 ,\n",
       "        -1.38438058, -2.86366415,  3.20177889, -2.2590847 ,  0.35434651,\n",
       "        -3.80889368, -2.19994164, -5.12272215, -4.28926086, -6.13805485],\n",
       "       [ 1.45354891, -0.88404596, -4.1134491 , -5.06687975,  2.19653702,\n",
       "        -2.29021692, -6.11742449, -1.5151782 , -3.72677565, -6.56206799,\n",
       "        -4.33271074, -5.46066093, -4.89900827, -4.19596052, -2.49278498,\n",
       "        -6.17221451, -0.88499844,  2.59326172, -3.0664711 ,  2.6268363 ,\n",
       "        -1.56667709, -1.19812107, -3.17165422, -2.56308889, -3.92364264],\n",
       "       [ 0.5158186 ,  2.16028714,  0.98761487, -2.17731953, -2.97107077,\n",
       "        -3.09075284, -6.36976242, -4.05143738, -2.40350962, -5.33999681,\n",
       "        -3.00020552, -4.98096037, -6.13001299, -7.20112133, -3.0862658 ,\n",
       "        -4.47644186, -5.96702766, -1.65905404, -4.67019272,  1.76922464,\n",
       "        -1.15100133,  2.19910955, -0.15731549, -1.01174617, -2.945297  ]])"
      ]
     },
     "execution_count": 134,
     "metadata": {},
     "output_type": "execute_result"
    }
   ],
   "source": [
    "matrix_values"
   ]
  },
  {
   "cell_type": "code",
   "execution_count": 195,
   "metadata": {},
   "outputs": [],
   "source": [
    "loss_weight = np.array([0.1265395 , 0.97901945, 0.98779824, 0.98798795, 0.99297994,\n",
    "       0.99004227, 0.9902172 , 0.99399384, 0.99761395, 0.99752619,\n",
    "       0.99085405, 0.99956869, 0.99918055, 0.99838453, 0.99770222,\n",
    "       0.99789736, 0.99134871, 0.99592386, 0.99592018, 0.99679445,\n",
    "       0.99659237, 0.99884241, 0.99871236, 0.99932548, 0.99923426])\n",
    "\n",
    "loss_weight_1 = np.array([0.00134934769594975,  0.0548351842469636,           0.0923963767207384,\n",
    "           0.0952650592913482,\n",
    "           0.156380870740497,\n",
    "           0.113052936739173,\n",
    "           0.116187279167639,\n",
    "           0.181073044725212,\n",
    "           0.405285806552916,\n",
    "           0.400809143317001,\n",
    "           0.122243562996140,\n",
    "           1,\n",
    "           0.941120945509562,\n",
    "           0.560479631931825,\n",
    "           0.415442280425244,\n",
    "           0.464607162224048,\n",
    "           0.130283282851676,\n",
    "           0.255949048107327,\n",
    "           0.263686918927640,\n",
    "           0.316056007969892,\n",
    "           0.309816548557251,\n",
    "           0.684273567653671,\n",
    "           0.651440097071119,\n",
    "           0.904838636036523,\n",
    "           0.865534010270693])"
   ]
  },
  {
   "cell_type": "code",
   "execution_count": 152,
   "metadata": {},
   "outputs": [],
   "source": [
    "def grad_bad(matrix_line,loss_weight,gt):\n",
    "    out = np.sum(np.exp(loss_weight*matrix_line),axis=1)\n",
    "    inside = np.transpose(np.exp(loss_weight*matrix_line))/out -1\n",
    "    print(inside.shape)\n",
    "    return loss_weight*np.transpose(inside), gt*loss_weight*np.transpose(inside)"
   ]
  },
  {
   "cell_type": "code",
   "execution_count": 138,
   "metadata": {},
   "outputs": [
    {
     "name": "stdout",
     "output_type": "stream",
     "text": [
      "(25, 17)\n"
     ]
    }
   ],
   "source": [
    "g, g_c = grad_bad(matrix_values,loss_weight,matrix_gt)"
   ]
  },
  {
   "cell_type": "code",
   "execution_count": 165,
   "metadata": {},
   "outputs": [],
   "source": [
    "def grad_good(matrix_line,loss_weight,gt):\n",
    "    out = np.sum(np.exp(matrix_line),axis=1)\n",
    "    inside = np.transpose(np.exp(matrix_line))/out -1\n",
    "    print(inside.shape)\n",
    "    return loss_weight*np.transpose(inside), gt*loss_weight*np.transpose(inside), np.transpose(inside)"
   ]
  },
  {
   "cell_type": "code",
   "execution_count": 198,
   "metadata": {},
   "outputs": [
    {
     "name": "stdout",
     "output_type": "stream",
     "text": [
      "(25, 17)\n",
      "(25, 17)\n"
     ]
    }
   ],
   "source": [
    "g_g, g_cg, g_gg = grad_good(matrix_values,loss_weight,matrix_gt)\n",
    "g_g_1, g_cg_1, g_gg_1 = grad_good(matrix_values,loss_weight_1,matrix_gt)\n"
   ]
  },
  {
   "cell_type": "code",
   "execution_count": 167,
   "metadata": {},
   "outputs": [
    {
     "data": {
      "text/plain": [
       "array([[-2.05692714e-04, -9.78947714e-01, -9.87751629e-01,\n",
       "        -9.87930949e-01, -9.92961628e-01, -9.89979444e-01,\n",
       "        -9.90154153e-01, -9.93954032e-01, -9.97548120e-01,\n",
       "        -9.97442187e-01, -9.90804111e-01, -9.99491814e-01,\n",
       "        -9.98962005e-01, -9.98370333e-01, -9.97684012e-01,\n",
       "        -9.97883352e-01, -9.91188564e-01, -9.95905247e-01,\n",
       "        -9.95901807e-01, -9.96763408e-01, -9.96553012e-01,\n",
       "        -9.98788291e-01, -9.98636663e-01, -9.99190187e-01,\n",
       "        -9.99050068e-01],\n",
       "       [-9.97647768e-02, -5.64034778e-01, -9.85986201e-01,\n",
       "        -9.87623261e-01, -6.93926865e-01, -9.88853884e-01,\n",
       "        -9.89142877e-01, -9.90098222e-01, -9.97378001e-01,\n",
       "        -9.97122815e-01, -9.90053181e-01, -9.99483619e-01,\n",
       "        -9.97508482e-01, -9.97572294e-01, -9.97510149e-01,\n",
       "        -9.97122962e-01, -9.90531883e-01, -9.94438230e-01,\n",
       "        -9.74915332e-01, -9.94870077e-01, -9.75585769e-01,\n",
       "        -9.98567885e-01, -9.97172938e-01, -9.98891374e-01,\n",
       "        -9.97936194e-01],\n",
       "       [-1.23023104e-01, -6.12378990e-01, -5.73702151e-01,\n",
       "        -9.80660440e-01, -9.91520010e-01, -9.88329439e-01,\n",
       "        -9.90176801e-01, -9.93749907e-01, -9.93427926e-01,\n",
       "        -9.97146110e-01, -9.90232393e-01, -9.99141878e-01,\n",
       "        -9.98863148e-01, -9.98334978e-01, -9.97283180e-01,\n",
       "        -9.97762903e-01, -9.91202723e-01, -9.93733916e-01,\n",
       "        -9.95674199e-01, -9.91590207e-01, -9.96113107e-01,\n",
       "        -8.84093562e-01, -9.80233523e-01, -9.83475411e-01,\n",
       "        -9.95731598e-01],\n",
       "       [-1.03018303e-01, -6.28004853e-01, -9.41963821e-01,\n",
       "        -6.28262532e-01, -9.87600655e-01, -9.89151630e-01,\n",
       "        -9.88446131e-01, -9.90152835e-01, -9.97389419e-01,\n",
       "        -9.97157329e-01, -9.89634677e-01, -9.99175709e-01,\n",
       "        -9.98361425e-01, -9.98193240e-01, -9.97558271e-01,\n",
       "        -9.97760692e-01, -9.89698086e-01, -9.95585153e-01,\n",
       "        -9.95755846e-01, -9.92637701e-01, -9.94219395e-01,\n",
       "        -9.94295829e-01, -9.94095565e-01, -9.94199229e-01,\n",
       "        -9.92662644e-01],\n",
       "       [-8.94502787e-02, -9.75484386e-01, -9.85814423e-01,\n",
       "        -9.87843474e-01, -5.97047521e-01, -9.88866639e-01,\n",
       "        -9.89968998e-01, -7.37267149e-01, -9.97495169e-01,\n",
       "        -9.97439710e-01, -9.72679684e-01, -9.99403087e-01,\n",
       "        -9.97371279e-01, -9.95786856e-01, -9.97262093e-01,\n",
       "        -9.97127927e-01, -9.89212482e-01, -9.91883400e-01,\n",
       "        -9.88066294e-01, -9.95440899e-01, -9.94642535e-01,\n",
       "        -9.98636327e-01, -9.98423713e-01, -9.99090842e-01,\n",
       "        -9.99032144e-01],\n",
       "       [-1.10627936e-01, -9.77614290e-01, -6.84359558e-01,\n",
       "        -9.32294084e-01, -9.92889131e-01, -5.92319589e-01,\n",
       "        -8.99008831e-01, -9.93944976e-01, -9.95157915e-01,\n",
       "        -9.95633603e-01, -9.90807045e-01, -9.98687650e-01,\n",
       "        -9.97628404e-01, -9.98252799e-01, -9.97664676e-01,\n",
       "        -9.97844549e-01, -9.91212014e-01, -9.95686555e-01,\n",
       "        -9.95615342e-01, -9.96012984e-01, -9.96088245e-01,\n",
       "        -9.97360101e-01, -9.97708427e-01, -9.97330811e-01,\n",
       "        -9.97466952e-01],\n",
       "       [-9.76250606e-02, -9.77860526e-01, -8.06150891e-01,\n",
       "        -9.37514249e-01, -9.92847507e-01, -7.95952603e-01,\n",
       "        -6.62178442e-01, -9.93873062e-01, -9.97104573e-01,\n",
       "        -9.96097051e-01, -9.90781342e-01, -9.98842046e-01,\n",
       "        -9.98179376e-01, -9.98278282e-01, -9.97664456e-01,\n",
       "        -9.97824206e-01, -9.91296499e-01, -9.95732761e-01,\n",
       "        -9.95256689e-01, -9.96225153e-01, -9.96161723e-01,\n",
       "        -9.98614633e-01, -9.98557093e-01, -9.98549381e-01,\n",
       "        -9.98511975e-01],\n",
       "       [-8.16416278e-02, -9.77770032e-01, -9.86163388e-01,\n",
       "        -9.87897058e-01, -9.69297532e-01, -9.89128658e-01,\n",
       "        -9.89990402e-01, -6.36024849e-01, -9.97262004e-01,\n",
       "        -9.97253341e-01, -7.64589909e-01, -9.99153717e-01,\n",
       "        -9.97398702e-01, -9.94108361e-01, -9.93206076e-01,\n",
       "        -9.95732373e-01, -9.89352389e-01, -9.90494390e-01,\n",
       "        -9.91593048e-01, -9.95557821e-01, -9.95491098e-01,\n",
       "        -9.98610005e-01, -9.98512971e-01, -9.99144999e-01,\n",
       "        -9.99109781e-01],\n",
       "       [-1.04879191e-01, -9.79011097e-01, -9.87778341e-01,\n",
       "        -9.87987884e-01, -9.92979904e-01, -6.50814738e-01,\n",
       "        -9.89016622e-01, -9.93993824e-01, -5.25368396e-01,\n",
       "        -9.89256806e-01, -9.90851058e-01, -9.97286595e-01,\n",
       "        -9.98590577e-01, -9.98379944e-01, -9.97392203e-01,\n",
       "        -9.97896828e-01, -9.91344899e-01, -9.95900464e-01,\n",
       "        -9.95920132e-01, -9.96750819e-01, -9.96592153e-01,\n",
       "        -9.98832599e-01, -9.98712041e-01, -9.99319891e-01,\n",
       "        -9.99233694e-01],\n",
       "       [-8.50104577e-02, -9.78980191e-01, -9.87673107e-01,\n",
       "        -9.87844679e-01, -9.92978981e-01, -9.61725115e-01,\n",
       "        -7.56336546e-01, -9.93992276e-01, -9.55234695e-01,\n",
       "        -6.45009764e-01, -9.90792693e-01, -9.97717609e-01,\n",
       "        -9.92122956e-01, -9.98342658e-01, -9.97259256e-01,\n",
       "        -9.97849942e-01, -9.91186775e-01, -9.95812422e-01,\n",
       "        -9.95820160e-01, -9.96726500e-01, -9.96401728e-01,\n",
       "        -9.98770065e-01, -9.98345488e-01, -9.99283299e-01,\n",
       "        -9.99031332e-01],\n",
       "       [-9.97832135e-02, -9.75304876e-01, -9.84393002e-01,\n",
       "        -9.87201766e-01, -9.91958685e-01, -9.55421930e-01,\n",
       "        -9.83266382e-01, -9.88284446e-01, -9.83817980e-01,\n",
       "        -9.86548137e-01, -7.14438419e-01, -9.94944776e-01,\n",
       "        -9.91228053e-01, -7.64083836e-01, -8.87105949e-01,\n",
       "        -9.93362239e-01, -9.68364340e-01, -9.76332038e-01,\n",
       "        -9.93719171e-01, -9.88689036e-01, -9.94333423e-01,\n",
       "        -9.95505157e-01, -9.97168479e-01, -9.96711014e-01,\n",
       "        -9.96909840e-01],\n",
       "       [-1.07087426e-01, -9.77873845e-01, -9.87659500e-01,\n",
       "        -9.87043322e-01, -9.91523927e-01, -9.75612860e-01,\n",
       "        -9.86153158e-01, -9.92680011e-01, -9.95142128e-01,\n",
       "        -9.94909922e-01, -9.81284964e-01, -9.98677065e-01,\n",
       "        -9.94866873e-01, -5.70392022e-01, -9.96122198e-01,\n",
       "        -9.97692714e-01, -6.37968512e-01, -9.90573893e-01,\n",
       "        -9.95310987e-01, -9.94453925e-01, -9.95912491e-01,\n",
       "        -9.97552020e-01, -9.97324541e-01, -9.97689280e-01,\n",
       "        -9.96930467e-01],\n",
       "       [-1.08688191e-01, -9.76420342e-01, -9.77221289e-01,\n",
       "        -9.87752704e-01, -9.92722351e-01, -9.74929908e-01,\n",
       "        -9.88828074e-01, -9.88330108e-01, -9.79815764e-01,\n",
       "        -9.93064258e-01, -6.30599750e-01, -9.92833477e-01,\n",
       "        -9.96173214e-01, -9.89700824e-01, -6.18982929e-01,\n",
       "        -9.84721116e-01, -9.90335775e-01, -9.80725744e-01,\n",
       "        -9.94337920e-01, -9.93335382e-01, -9.95923147e-01,\n",
       "        -9.97310439e-01, -9.98425633e-01, -9.98106456e-01,\n",
       "        -9.98720516e-01],\n",
       "       [-7.00221587e-02, -9.77933133e-01, -9.87777948e-01,\n",
       "        -9.83536478e-01, -9.92199293e-01, -9.89558186e-01,\n",
       "        -9.89715784e-01, -9.91469065e-01, -9.97300208e-01,\n",
       "        -9.97238634e-01, -9.89917953e-01, -9.99179513e-01,\n",
       "        -9.98203651e-01, -9.96825795e-01, -9.95520865e-01,\n",
       "        -9.97707154e-01, -4.61799996e-01, -9.94273728e-01,\n",
       "        -9.95821038e-01, -9.96699895e-01, -9.96542759e-01,\n",
       "        -9.98801389e-01, -9.98625709e-01, -9.99232417e-01,\n",
       "        -9.98974440e-01],\n",
       "       [-1.25722416e-01, -9.78649057e-01, -9.86104151e-01,\n",
       "        -9.87818322e-01, -9.92742856e-01, -9.82778580e-01,\n",
       "        -9.89980797e-01, -9.92296018e-01, -9.92213992e-01,\n",
       "        -9.97329078e-01, -9.75618477e-01, -9.98914089e-01,\n",
       "        -9.99131220e-01, -9.98173359e-01, -5.39745482e-01,\n",
       "        -9.93185479e-01, -9.90282383e-01, -5.34523066e-01,\n",
       "        -9.93959287e-01, -9.70013027e-01, -9.96175814e-01,\n",
       "        -9.96755942e-01, -9.98600156e-01, -9.99067110e-01,\n",
       "        -9.99193589e-01],\n",
       "       [-1.13799291e-01, -9.69501636e-01, -9.87418136e-01,\n",
       "        -9.87841424e-01, -7.82811953e-01, -9.87683382e-01,\n",
       "        -9.90165837e-01, -9.88853021e-01, -9.97048848e-01,\n",
       "        -9.97493021e-01, -9.90547840e-01, -9.99468699e-01,\n",
       "        -9.99005277e-01, -9.98030779e-01, -9.95760975e-01,\n",
       "        -9.97848359e-01, -9.81720209e-01, -6.82488799e-01,\n",
       "        -9.94828349e-01, -6.72373938e-01, -9.91696831e-01,\n",
       "        -9.91749217e-01, -9.97726783e-01, -9.97513081e-01,\n",
       "        -9.98769388e-01],\n",
       "       [-1.19508767e-01, -6.97343702e-01, -8.99826884e-01,\n",
       "        -9.84273358e-01, -9.91291918e-01, -9.88549083e-01,\n",
       "        -9.90160948e-01, -9.93420220e-01, -9.94622451e-01,\n",
       "        -9.97367500e-01, -9.89218008e-01, -9.99340988e-01,\n",
       "        -9.99108411e-01, -9.98359833e-01, -9.96190713e-01,\n",
       "        -9.97520874e-01, -9.91264466e-01, -9.89636541e-01,\n",
       "        -9.95610621e-01, -8.02827622e-01, -9.86135508e-01,\n",
       "        -7.00087212e-01, -9.70406489e-01, -9.87273219e-01,\n",
       "        -9.97491256e-01]])"
      ]
     },
     "execution_count": 167,
     "metadata": {},
     "output_type": "execute_result"
    }
   ],
   "source": [
    "g_g"
   ]
  },
  {
   "cell_type": "markdown",
   "metadata": {},
   "source": [
    "# drawing"
   ]
  },
  {
   "cell_type": "code",
   "execution_count": 168,
   "metadata": {},
   "outputs": [],
   "source": [
    "names = range(25)"
   ]
  },
  {
   "cell_type": "code",
   "execution_count": 169,
   "metadata": {},
   "outputs": [
    {
     "data": {
      "text/plain": [
       "array([-0.10868819, -0.97642034, -0.97722129, -0.9877527 , -0.99272235,\n",
       "       -0.97492991, -0.98882807, -0.98833011, -0.97981576, -0.99306426,\n",
       "       -0.63059975, -0.99283348, -0.99617321, -0.98970082, -0.61898293,\n",
       "       -0.98472112, -0.99033577, -0.98072574, -0.99433792, -0.99333538,\n",
       "       -0.99592315, -0.99731044, -0.99842563, -0.99810646, -0.99872052])"
      ]
     },
     "execution_count": 169,
     "metadata": {},
     "output_type": "execute_result"
    }
   ],
   "source": [
    "g_g[-5,:]"
   ]
  },
  {
   "cell_type": "code",
   "execution_count": 193,
   "metadata": {},
   "outputs": [
    {
     "data": {
      "image/png": "[encoded data removed]",
      "text/plain": [
       "<Figure size 720x360 with 4 Axes>"
      ]
     },
     "metadata": {},
     "output_type": "display_data"
    }
   ],
   "source": [
    " f, ((ax3, ax2), (ax1, ax4)) = plt.subplots(2, 2,sharex='col')\n",
    "f.set_size_inches((10,5))\n",
    "ax1.bar(names,np.abs(g_g[-5,:]))\n",
    "ax1.set_title(\"absolut weighted gradients\")\n",
    "ax2.bar(names, loss_weight)\n",
    "ax2.set_title(\"weights\")\n",
    "ax3.bar(names, matrix_values[-5,:])\n",
    "ax3.set_title(\"values of pixel\")\n",
    "ax4.bar(names, np.abs(g_gg[-5,:]))\n",
    "ax4.set_title(\"absolut gradients (unweighted)\")\n",
    "f.savefig(\"./gradients_myw.png\")"
   ]
  },
  {
   "cell_type": "code",
   "execution_count": 199,
   "metadata": {},
   "outputs": [
    {
     "data": {
      "image/png": "[encoded data removed]",
      "text/plain": [
       "<Figure size 720x360 with 4 Axes>"
      ]
     },
     "metadata": {},
     "output_type": "display_data"
    }
   ],
   "source": [
    " f, ((ax3, ax2), (ax1, ax4)) = plt.subplots(2, 2,sharex='col')\n",
    "f.set_size_inches((10,5))\n",
    "ax1.bar(names,np.abs(g_g_1[-5,:]))\n",
    "ax1.set_title(\"absolut weighted gradients\")\n",
    "ax2.bar(names, loss_weight_1)\n",
    "ax2.set_title(\"weights\")\n",
    "ax3.bar(names, matrix_values[-5,:])\n",
    "ax3.set_title(\"values of pixel\")\n",
    "ax4.bar(names, np.abs(g_gg_1[-5,:]))\n",
    "ax4.set_title(\"absolut gradients (unweighted)\")\n",
    "f.savefig(\"./gradients_yyw.png\")"
   ]
  },
  {
   "cell_type": "code",
   "execution_count": null,
   "metadata": {},
   "outputs": [],
   "source": []
  }
 ],
 "metadata": {
  "kernelspec": {
   "display_name": "Python 3",
   "language": "python",
   "name": "python3"
  },
  "language_info": {
   "codemirror_mode": {
    "name": "ipython",
    "version": 3
   },
   "file_extension": ".py",
   "mimetype": "text/x-python",
   "name": "python",
   "nbconvert_exporter": "python",
   "pygments_lexer": "ipython3",
   "version": "3.6.5"
  }
 },
 "nbformat": 4,
 "nbformat_minor": 2
}
