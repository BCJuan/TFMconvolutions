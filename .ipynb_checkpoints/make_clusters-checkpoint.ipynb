{
 "cells": [
  {
   "cell_type": "markdown",
   "metadata": {},
   "source": [
    "## For cluster"
   ]
  },
  {
   "cell_type": "code",
   "execution_count": 35,
   "metadata": {},
   "outputs": [],
   "source": [
    "import sklearn.cluster as skcl\n",
    "import scipy.io as scio\n",
    "import numpy as np\n",
    "import os"
   ]
  },
  {
   "cell_type": "code",
   "execution_count": 37,
   "metadata": {},
   "outputs": [],
   "source": [
    "def for_k_means(one_dir):\n",
    "    \n",
    "    list_values = []\n",
    "    list_names = []\n",
    "    \n",
    "    one_dirs = [os.path.join(one_dir,\"run0/\"),os.path.join(one_dir,\"run1/\"),os.path.join(one_dir,\"run2/\")]\n",
    "\n",
    "    for i in range(len(one_dirs)):\n",
    "        print(\"ended\")\n",
    "        print(\"-\"*10,len(os.listdir(one_dirs[i])))\n",
    "        counter = 0\n",
    "        #only for run 0\n",
    "        if i == 0:\n",
    "            for dirr_2 in os.listdir(one_dirs[i]):\n",
    "                counter +=1\n",
    "                if counter % 50 == 0: print(counter)\n",
    "\n",
    "                for file in os.listdir(os.path.join(one_dirs[i],dirr_2)):\n",
    "\n",
    "                    init_try = os.path.join(one_dirs[i],dirr_2)\n",
    "                    if file.endswith(\"info.mat\"):\n",
    "                        if not file.startswith(\"ung\"):\n",
    "                            name_1 = file.split(\"_\")\n",
    "                            name_  = \"_\".join(name_1[:3])\n",
    "                        else:\n",
    "                            name_1 = file.split(\"_\")\n",
    "                            name_  = \"_\".join(name_1[:4])\n",
    "\n",
    "                        im = scio.loadmat(os.path.join(one_dirs[i], dirr_2,file))\n",
    "                        joint = im['joints3D']\n",
    "                        try:\n",
    "                            for z in range(joint.shape[2]):\n",
    "                                file_name = name_ + \"_\" + str(z+1)\n",
    "                                list_values.append(np.ravel(joint[:,:,z]))\n",
    "                                list_names.append(one_dirs[i].split(\"/\")[-2]+ \"/\" +file_name)\n",
    "\n",
    "                        except IndexError:\n",
    "                            pass\n",
    "    return list_names,list_values"
   ]
  },
  {
   "cell_type": "markdown",
   "metadata": {},
   "source": [
    "### For training (two clusters big and small)"
   ]
  },
  {
   "cell_type": "code",
   "execution_count": null,
   "metadata": {
    "scrolled": true
   },
   "outputs": [
    {
     "name": "stdout",
     "output_type": "stream",
     "text": [
      "ended\n",
      "---------- 1964\n",
      "50\n",
      "100\n",
      "150\n",
      "200\n",
      "250\n",
      "300\n",
      "350\n",
      "400\n",
      "450\n",
      "500\n",
      "550\n",
      "600\n",
      "650\n",
      "700\n",
      "750\n",
      "800\n",
      "850\n",
      "900\n",
      "950\n",
      "1000\n",
      "1050\n",
      "1100\n",
      "1150\n",
      "1200\n",
      "1250\n",
      "1300\n",
      "1350\n",
      "1400\n",
      "1450\n",
      "1500\n",
      "1550\n",
      "1600\n",
      "1650\n",
      "1700\n",
      "1750\n"
     ]
    }
   ],
   "source": [
    "names,values = for_k_means(\"SURREAL/cmu/train/\")"
   ]
  },
  {
   "cell_type": "code",
   "execution_count": null,
   "metadata": {},
   "outputs": [],
   "source": [
    "np.save(\"./clusters/train_values.npy\", values)\n",
    "np.save(\"./clusters/train_names.npy\", names)"
   ]
  },
  {
   "cell_type": "code",
   "execution_count": 21,
   "metadata": {},
   "outputs": [
    {
     "data": {
      "text/plain": [
       "64201.16"
      ]
     },
     "execution_count": 21,
     "metadata": {},
     "output_type": "execute_result"
    }
   ],
   "source": [
    "len(values) / 25"
   ]
  },
  {
   "cell_type": "code",
   "execution_count": 96,
   "metadata": {},
   "outputs": [],
   "source": [
    "values = np.load(\"./clusters/train_values.npy\")\n",
    "names = np.load(\"./clusters/train_names.npy\")"
   ]
  },
  {
   "cell_type": "code",
   "execution_count": 3,
   "metadata": {},
   "outputs": [],
   "source": [
    "kmeans = skcl.KMeans(n_clusters=25).fit(values)\n",
    "labels = kmeans.labels_"
   ]
  },
  {
   "cell_type": "code",
   "execution_count": 14,
   "metadata": {},
   "outputs": [],
   "source": [
    "np.save(\"./clusters/labels.npy\", kmeans.labels_)"
   ]
  },
  {
   "cell_type": "code",
   "execution_count": 97,
   "metadata": {},
   "outputs": [],
   "source": [
    "labels = np.load(\"./clusters/labels.npy\")"
   ]
  },
  {
   "cell_type": "code",
   "execution_count": 98,
   "metadata": {},
   "outputs": [
    {
     "data": {
      "text/plain": [
       "92961"
      ]
     },
     "execution_count": 98,
     "metadata": {},
     "output_type": "execute_result"
    }
   ],
   "source": [
    "len(labels[labels==1])"
   ]
  },
  {
   "cell_type": "code",
   "execution_count": 106,
   "metadata": {},
   "outputs": [
    {
     "data": {
      "text/plain": [
       "array(['run0/132_25_c0002_72', 'run0/132_25_c0002_73',\n",
       "       'run0/132_25_c0002_74', ..., 'run0/91_25_c0007_98',\n",
       "       'run0/91_25_c0007_99', 'run0/91_25_c0007_100'], dtype='<U25')"
      ]
     },
     "execution_count": 106,
     "metadata": {},
     "output_type": "execute_result"
    }
   ],
   "source": [
    "names[labels==21]"
   ]
  },
  {
   "cell_type": "code",
   "execution_count": 105,
   "metadata": {},
   "outputs": [],
   "source": [
    "cluster_1 = names[labels==1]\n",
    "cluster_2 = names[labels==21]"
   ]
  },
  {
   "cell_type": "markdown",
   "metadata": {},
   "source": [
    "### Checking if we have all of them and move em"
   ]
  },
  {
   "cell_type": "code",
   "execution_count": 101,
   "metadata": {},
   "outputs": [],
   "source": [
    "import shutil\n",
    "import re"
   ]
  },
  {
   "cell_type": "code",
   "execution_count": 102,
   "metadata": {},
   "outputs": [],
   "source": [
    "path = \"./SURREAL/cmu/train_complete/\"\n",
    "path_dir = \"./SURREAL/cmu/cluster_train/\"\n",
    "path_dir_2 = \"./SURREAL/cmu/cluster_train_2/\""
   ]
  },
  {
   "cell_type": "code",
   "execution_count": 107,
   "metadata": {},
   "outputs": [],
   "source": [
    "def copy_to_cluster(path, path_dir, cluster_name):\n",
    "    #the structure has to be : cluster---> \n",
    "        #sample\n",
    "        #annotations\n",
    "        \n",
    "    #and the initial:\n",
    "        #train\n",
    "            # run\n",
    "                #sample\n",
    "                #annotations\n",
    "    l = []\n",
    "    for i in cluster_name:\n",
    "        listy = i.split(\"/\")\n",
    "        listy_2 = listy[1].split(\"_\")\n",
    "        namy = \"_\".join(listy_2[:-1]) + \"_\" +\"segm\" + \"_\" + listy_2[-1]\n",
    "\n",
    "        complete_name = listy[0] + \"/\" + \"sample\" + \"/\" + listy[1] + \".jpg\" #para comprobar\n",
    "        complete_ground_name = listy[0] + \"/\" + \"annotations\" + \"/\" + namy + \".png\" #para comprobar\n",
    "\n",
    "        complete_ground_name_copy =  \"annotations\" + \"/\" + namy + \".png\"\n",
    "        complete_name_copy = \"sample\" + \"/\" + listy[1] + \".jpg\" #para copiar\n",
    "\n",
    "        complete_path = os.path.join(path, complete_name)\n",
    "        complete_f_path_copy = os.path.join(path_dir, complete_name_copy)\n",
    "        complete_path_ground = os.path.join(path, complete_ground_name)\n",
    "        complete_f_path_ground_copy = os.path.join(path_dir, complete_ground_name_copy)\n",
    "\n",
    "        if not os.path.exists(complete_path):\n",
    "            print(complete_path)\n",
    "            l.append(complete_path)\n",
    "        shutil.copy2(complete_path, complete_f_path_copy)\n",
    "        shutil.copy2(complete_path_ground, complete_f_path_ground_copy)\n",
    "    "
   ]
  },
  {
   "cell_type": "code",
   "execution_count": 108,
   "metadata": {},
   "outputs": [],
   "source": [
    "copy_to_cluster(path, path_dir_2, cluster_2)"
   ]
  },
  {
   "cell_type": "markdown",
   "metadata": {},
   "source": [
    "### For eval (only one small)"
   ]
  },
  {
   "cell_type": "code",
   "execution_count": 84,
   "metadata": {},
   "outputs": [
    {
     "name": "stdout",
     "output_type": "stream",
     "text": [
      "ended\n",
      "---------- 235\n",
      "50\n",
      "100\n",
      "150\n",
      "200\n",
      "ended\n",
      "---------- 234\n",
      "ended\n",
      "---------- 234\n"
     ]
    }
   ],
   "source": [
    "names,values = for_k_means(\"SURREAL/cmu/val/\")#only run0"
   ]
  },
  {
   "cell_type": "code",
   "execution_count": 85,
   "metadata": {},
   "outputs": [],
   "source": [
    "np.save(\"./clusters/val_values.npy\", values)\n",
    "np.save(\"./clusters/val_names.npy\", names)"
   ]
  },
  {
   "cell_type": "code",
   "execution_count": 86,
   "metadata": {},
   "outputs": [
    {
     "data": {
      "text/plain": [
       "1523.5"
      ]
     },
     "execution_count": 86,
     "metadata": {},
     "output_type": "execute_result"
    }
   ],
   "source": [
    "len(values) / 10"
   ]
  },
  {
   "cell_type": "code",
   "execution_count": 109,
   "metadata": {},
   "outputs": [],
   "source": [
    "values = np.load(\"./clusters/val_values.npy\")\n",
    "names = np.load(\"./clusters/val_names.npy\")"
   ]
  },
  {
   "cell_type": "code",
   "execution_count": 88,
   "metadata": {},
   "outputs": [],
   "source": [
    "kmeans = skcl.KMeans(n_clusters=10).fit(values)\n",
    "labels = kmeans.labels_"
   ]
  },
  {
   "cell_type": "code",
   "execution_count": 89,
   "metadata": {},
   "outputs": [],
   "source": [
    "np.save(\"./clusters/val_labels.npy\", kmeans.labels_)"
   ]
  },
  {
   "cell_type": "code",
   "execution_count": 110,
   "metadata": {},
   "outputs": [],
   "source": [
    "labels = np.load(\"./clusters/val_labels.npy\")"
   ]
  },
  {
   "cell_type": "code",
   "execution_count": 111,
   "metadata": {},
   "outputs": [
    {
     "data": {
      "text/plain": [
       "1411"
      ]
     },
     "execution_count": 111,
     "metadata": {},
     "output_type": "execute_result"
    }
   ],
   "source": [
    "len(labels[labels==6])"
   ]
  },
  {
   "cell_type": "code",
   "execution_count": 112,
   "metadata": {},
   "outputs": [],
   "source": [
    "cluster_val = names[labels==6]"
   ]
  },
  {
   "cell_type": "markdown",
   "metadata": {},
   "source": [
    "### Checking if we have all of them and move em"
   ]
  },
  {
   "cell_type": "code",
   "execution_count": 40,
   "metadata": {},
   "outputs": [],
   "source": [
    "import shutil\n",
    "import re"
   ]
  },
  {
   "cell_type": "code",
   "execution_count": 113,
   "metadata": {},
   "outputs": [],
   "source": [
    "path = \"./SURREAL/cmu/val_complete/\"\n",
    "path_dir = \"./SURREAL/cmu/cluster_val/\""
   ]
  },
  {
   "cell_type": "code",
   "execution_count": 114,
   "metadata": {},
   "outputs": [],
   "source": [
    "copy_to_cluster(path, path_dir, cluster_val)"
   ]
  },
  {
   "cell_type": "markdown",
   "metadata": {},
   "source": [
    "## For test"
   ]
  },
  {
   "cell_type": "code",
   "execution_count": 38,
   "metadata": {
    "scrolled": true
   },
   "outputs": [
    {
     "name": "stdout",
     "output_type": "stream",
     "text": [
      "ended\n",
      "---------- 703\n",
      "50\n",
      "100\n",
      "150\n",
      "200\n",
      "250\n",
      "300\n",
      "350\n",
      "400\n",
      "450\n",
      "500\n",
      "550\n",
      "600\n",
      "650\n",
      "700\n",
      "ended\n",
      "---------- 703\n",
      "ended\n",
      "---------- 703\n"
     ]
    }
   ],
   "source": [
    "names,values = for_k_means(\"SURREAL/cmu/test/\")"
   ]
  },
  {
   "cell_type": "code",
   "execution_count": 39,
   "metadata": {},
   "outputs": [],
   "source": [
    "np.save(\"./clusters/test_values.npy\", values)\n",
    "np.save(\"./clusters/test_names.npy\", names)"
   ]
  },
  {
   "cell_type": "code",
   "execution_count": 40,
   "metadata": {},
   "outputs": [
    {
     "data": {
      "text/plain": [
       "14488.56"
      ]
     },
     "execution_count": 40,
     "metadata": {},
     "output_type": "execute_result"
    }
   ],
   "source": [
    "len(values) / 25"
   ]
  },
  {
   "cell_type": "code",
   "execution_count": 115,
   "metadata": {},
   "outputs": [],
   "source": [
    "values = np.load(\"./clusters/test_values.npy\")\n",
    "names = np.load(\"./clusters/test_names.npy\")"
   ]
  },
  {
   "cell_type": "code",
   "execution_count": 41,
   "metadata": {},
   "outputs": [],
   "source": [
    "kmeans = skcl.KMeans(n_clusters=25).fit(values)\n",
    "labels = kmeans.labels_"
   ]
  },
  {
   "cell_type": "code",
   "execution_count": 55,
   "metadata": {},
   "outputs": [],
   "source": [
    "np.save(\"./clusters/labels_test.npy\", kmeans.labels_)"
   ]
  },
  {
   "cell_type": "code",
   "execution_count": 116,
   "metadata": {},
   "outputs": [],
   "source": [
    "labels = np.load(\"./clusters/labels_test.npy\")"
   ]
  },
  {
   "cell_type": "code",
   "execution_count": 117,
   "metadata": {},
   "outputs": [
    {
     "data": {
      "text/plain": [
       "16965"
      ]
     },
     "execution_count": 117,
     "metadata": {},
     "output_type": "execute_result"
    }
   ],
   "source": [
    "len(labels[labels==4])"
   ]
  },
  {
   "cell_type": "code",
   "execution_count": 118,
   "metadata": {},
   "outputs": [
    {
     "data": {
      "text/plain": [
       "array(['run0/ung_60_03_c0006_14', 'run0/ung_60_03_c0006_15',\n",
       "       'run0/ung_60_03_c0006_16', ..., 'run0/ung_138_21_c0001_97',\n",
       "       'run0/ung_138_21_c0001_98', 'run0/ung_138_21_c0001_99'],\n",
       "      dtype='<U25')"
      ]
     },
     "execution_count": 118,
     "metadata": {},
     "output_type": "execute_result"
    }
   ],
   "source": [
    "names[labels==4]"
   ]
  },
  {
   "cell_type": "code",
   "execution_count": 119,
   "metadata": {},
   "outputs": [],
   "source": [
    "cluster_1 = names[labels==4]"
   ]
  },
  {
   "cell_type": "markdown",
   "metadata": {},
   "source": [
    "### Checking if we have all of them and move em"
   ]
  },
  {
   "cell_type": "code",
   "execution_count": 78,
   "metadata": {},
   "outputs": [],
   "source": [
    "import shutil\n",
    "import re"
   ]
  },
  {
   "cell_type": "code",
   "execution_count": 120,
   "metadata": {},
   "outputs": [],
   "source": [
    "path = \"./SURREAL/cmu/test_complete/\"\n",
    "path_dir = \"./SURREAL/cmu/cluster_test/\""
   ]
  },
  {
   "cell_type": "code",
   "execution_count": 121,
   "metadata": {},
   "outputs": [],
   "source": [
    "copy_to_cluster(path, path_dir, cluster_1)"
   ]
  },
  {
   "cell_type": "markdown",
   "metadata": {},
   "source": [
    "### Make lists"
   ]
  },
  {
   "cell_type": "markdown",
   "metadata": {},
   "source": [
    "#### Big cluster"
   ]
  },
  {
   "cell_type": "code",
   "execution_count": 122,
   "metadata": {},
   "outputs": [],
   "source": [
    "make_list(\"eval_cluster_list.txt\", \"./SURREAL/cmu/val_complete/run0/sample\",\"./SURREAL/cmu/val_complete/run0/annotations\" )"
   ]
  },
  {
   "cell_type": "code",
   "execution_count": 123,
   "metadata": {},
   "outputs": [],
   "source": [
    "make_list(\"train_cluster_list.txt\", \"./SURREAL/cmu/cluster_train/sample\",\"./SURREAL/cmu/cluster_train/annotations\" )"
   ]
  },
  {
   "cell_type": "code",
   "execution_count": 124,
   "metadata": {},
   "outputs": [],
   "source": [
    "make_list(\"test_cluster_list.txt\", \"./SURREAL/cmu/cluster_test/sample\",\"./SURREAL/cmu/cluster_test/annotations\" )"
   ]
  },
  {
   "cell_type": "markdown",
   "metadata": {},
   "source": [
    "#### Small cluster"
   ]
  },
  {
   "cell_type": "code",
   "execution_count": 125,
   "metadata": {},
   "outputs": [],
   "source": [
    "make_list(\"eval_cluster_list.txt\", \"./SURREAL/cmu/cluster_val/sample\",\"./SURREAL/cmu/cluster_val/annotations\" )"
   ]
  },
  {
   "cell_type": "code",
   "execution_count": 126,
   "metadata": {},
   "outputs": [],
   "source": [
    "make_list(\"train_cluster_list.txt\", \"./SURREAL/cmu/cluster_train_2/sample\",\"./SURREAL/cmu/cluster_train_2/annotations\" )"
   ]
  },
  {
   "cell_type": "markdown",
   "metadata": {},
   "source": [
    "mod"
   ]
  },
  {
   "cell_type": "code",
   "execution_count": 4,
   "metadata": {},
   "outputs": [],
   "source": [
    "make_list(\"eval_cluster_list.txt\", \"./SURREAL/cmu/cluster_mod_eval/sample\",\"./SURREAL/cmu/cluster_mod_eval/annotations\" )"
   ]
  },
  {
   "cell_type": "code",
   "execution_count": 26,
   "metadata": {},
   "outputs": [],
   "source": [
    "make_list(\"train_cluster_list.txt\", \"./SURREAL/cmu/cluster_mod_train/sample\",\"./SURREAL/cmu/cluster_mod_train/annotations\" )"
   ]
  },
  {
   "cell_type": "code",
   "execution_count": 8,
   "metadata": {},
   "outputs": [],
   "source": [
    "make_list(\"test_cluster_list.txt\", \"./SURREAL/cmu/cluster_mod_test/sample\",\"./SURREAL/cmu/cluster_mod_test/annotations\" )"
   ]
  },
  {
   "cell_type": "markdown",
   "metadata": {},
   "source": []
  },
  {
   "cell_type": "code",
   "execution_count": null,
   "metadata": {},
   "outputs": [],
   "source": []
  }
 ],
 "metadata": {
  "kernelspec": {
   "display_name": "Python 3",
   "language": "python",
   "name": "python3"
  },
  "language_info": {
   "codemirror_mode": {
    "name": "ipython",
    "version": 3
   },
   "file_extension": ".py",
   "mimetype": "text/x-python",
   "name": "python",
   "nbconvert_exporter": "python",
   "pygments_lexer": "ipython3",
   "version": "3.6.3"
  }
 },
 "nbformat": 4,
 "nbformat_minor": 2
}
