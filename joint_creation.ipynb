{
 "cells": [
  {
   "cell_type": "markdown",
   "metadata": {},
   "source": [
    "# Infojoints"
   ]
  },
  {
   "cell_type": "code",
   "execution_count": 13,
   "metadata": {},
   "outputs": [],
   "source": [
    "def find_joints_box(im,perc_w =0.1, perc_h=0.1):\n",
    "    shapy = im.shape\n",
    "    left = []\n",
    "    right = []\n",
    "    top = []\n",
    "    bottom = []\n",
    "\n",
    "    for i in range(shapy[0]):\n",
    "        for j in range(shapy[1]):\n",
    "            if im[i,j] != 0:\n",
    "                left.append(j)\n",
    "                break\n",
    "        for j in range(shapy[1]-1,-1,-1):\n",
    "            if im[i,j] != 0:\n",
    "                right.append(j)\n",
    "                break\n",
    "\n",
    "    for j in range(shapy[1]):\n",
    "        for i in range(shapy[0]):\n",
    "            if im[i,j] != 0:\n",
    "                top.append(i)\n",
    "                break\n",
    "        for i in range(shapy[0]-1,-1,-1):\n",
    "            if im[i,j] != 0:\n",
    "                bottom.append(i)\n",
    "                break\n",
    "    \n",
    "    if len(bottom) != 0:\n",
    "        f_left = np.min(left)\n",
    "        f_right = np.max(right)\n",
    "        f_top = np.min(top)\n",
    "        f_bottom = np.max(bottom)\n",
    "\n",
    "        width = np.abs(f_right -f_left)\n",
    "        height = np.abs(f_bottom -f_top)\n",
    "\n",
    "        x = int(np.floor(f_left + width/2))\n",
    "        y = int(np.floor(f_top +height/2))\n",
    "        \n",
    "    else:\n",
    "        x = -1\n",
    "        y = -1\n",
    "        width,height = 0,0\n",
    "\n",
    "    return x,y, max(width, height)"
   ]
  },
  {
   "cell_type": "code",
   "execution_count": 14,
   "metadata": {},
   "outputs": [],
   "source": [
    "import scipy as sc\n",
    "import scipy.io as scio\n",
    "from scipy import ndimage, misc\n",
    "import numpy as np\n",
    "import matplotlib.pyplot as plt\n",
    "import os\n",
    "from collections import Counter\n",
    "import imageio\n",
    "from skimage.transform import resize,rescale, rotate"
   ]
  },
  {
   "cell_type": "code",
   "execution_count": 15,
   "metadata": {},
   "outputs": [],
   "source": [
    "obj_path = \"./SURREAL/cmu/cluster_mod_train_heal/annotations/02_05_c0005_segm_80.png\""
   ]
  },
  {
   "cell_type": "code",
   "execution_count": 16,
   "metadata": {},
   "outputs": [],
   "source": [
    "im = imageio.imread(obj_path)"
   ]
  },
  {
   "cell_type": "markdown",
   "metadata": {},
   "source": [
    "## function for array of joints and box"
   ]
  },
  {
   "cell_type": "code",
   "execution_count": 17,
   "metadata": {},
   "outputs": [],
   "source": [
    "def joints(image, n_joints):\n",
    "    coords = np.zeros((n_joints,2))\n",
    "    for i in range(1, n_joints+1):\n",
    "        n_im = np.where(image==i,1,0)\n",
    "        x,y,size = find_joints_box(n_im)\n",
    "        coords[i-1] = x,y\n",
    "    \n",
    "    return coords, size"
   ]
  },
  {
   "cell_type": "code",
   "execution_count": 18,
   "metadata": {},
   "outputs": [],
   "source": [
    "coord,s = joints(im, 24)"
   ]
  },
  {
   "cell_type": "code",
   "execution_count": 19,
   "metadata": {},
   "outputs": [
    {
     "data": {
      "text/plain": [
       "array([172., 157., 185., 197., 156., 194., 170., 121., 188., 245., 150.,\n",
       "       252., 170., 105., 190., 281., 155., 289., 166.,  83.,  -1.,  -1.,\n",
       "       140., 293., 151.,  60., 184.,  77., 142.,  80., 150.,  45., 202.,\n",
       "       102., 138., 103., 203., 120., 131., 123.,  -1.,  -1., 114., 131.,\n",
       "        -1.,  -1., 109., 133.])"
      ]
     },
     "execution_count": 19,
     "metadata": {},
     "output_type": "execute_result"
    }
   ],
   "source": [
    "coord.reshape(-1)"
   ]
  },
  {
   "cell_type": "code",
   "execution_count": 20,
   "metadata": {},
   "outputs": [
    {
     "name": "stdout",
     "output_type": "stream",
     "text": [
      "False\n",
      "False\n",
      "False\n",
      "False\n",
      "False\n",
      "False\n",
      "False\n",
      "False\n",
      "False\n",
      "False\n",
      "True\n",
      "False\n",
      "False\n",
      "False\n",
      "False\n",
      "False\n",
      "False\n",
      "False\n",
      "False\n",
      "False\n",
      "True\n",
      "False\n",
      "True\n",
      "False\n"
     ]
    }
   ],
   "source": [
    "for i in range(len(coord)):\n",
    "    print(np.array_equal(coord[i],[-1,-1]))"
   ]
  },
  {
   "cell_type": "code",
   "execution_count": 21,
   "metadata": {},
   "outputs": [
    {
     "data": {
      "image/png": "[encoded data removed]",
      "text/plain": [
       "<matplotlib.figure.Figure at 0x7f90462442b0>"
      ]
     },
     "metadata": {},
     "output_type": "display_data"
    }
   ],
   "source": [
    "plt.figure(figsize=(10,10))\n",
    "plt.scatter(coord[:,0],coord[:,1], color='red', s=100)\n",
    "plt.imshow(f_im4)\n",
    "plt.axis('off')\n",
    "plt.savefig(\"./written/final/Figures/central_point_parts.png\",bbox_inches='tight')"
   ]
  },
  {
   "cell_type": "code",
   "execution_count": 23,
   "metadata": {},
   "outputs": [
    {
     "data": {
      "text/plain": [
       "'172.0 157.0 185.0 197.0 156.0 194.0 170.0 121.0 188.0 245.0 150.0 252.0 170.0 105.0 190.0 281.0 155.0 289.0 166.0 83.0 -1.0 -1.0 140.0 293.0 151.0 60.0 184.0 77.0 142.0 80.0 150.0 45.0 202.0 102.0 138.0 103.0 203.0 120.0 131.0 123.0 -1.0 -1.0 114.0 131.0 -1.0 -1.0 109.0 133.0'"
      ]
     },
     "execution_count": 23,
     "metadata": {},
     "output_type": "execute_result"
    }
   ],
   "source": [
    "str1 = ' '.join(str(e) for e in list(coord.reshape(-1)))\n",
    "str1"
   ]
  },
  {
   "cell_type": "code",
   "execution_count": 24,
   "metadata": {},
   "outputs": [],
   "source": [
    "im = scio.loadmat('SURREAL/cmu/train/run0/02_05/02_05_c0005_info.mat')\n",
    "im_2 = scio.loadmat('SURREAL/cmu/train/run0/02_05/02_05_c0005_segm.mat')\n"
   ]
  },
  {
   "cell_type": "code",
   "execution_count": 56,
   "metadata": {},
   "outputs": [],
   "source": []
  },
  {
   "cell_type": "code",
   "execution_count": 57,
   "metadata": {},
   "outputs": [],
   "source": [
    "new_joints = np.stack([im['joints2D'][:,:,79][0],im['joints2D'][:,:,79][1]]).reshape(-1,2)"
   ]
  },
  {
   "cell_type": "code",
   "execution_count": 62,
   "metadata": {},
   "outputs": [],
   "source": []
  },
  {
   "cell_type": "code",
   "execution_count": 25,
   "metadata": {},
   "outputs": [],
   "source": [
    "label_colours = [[0, 0, 0], [153, 76, 0], [153, 153, 0]\n",
    "                # 0 = road, 1 = sidewalk, 2 = building\n",
    "                ,[76, 153, 0], [0, 153, 0], [0, 153, 76]\n",
    "                # 3 = wall, 4 = fence, 5 = pole\n",
    "                ,[0,153, 153], [0, 76, 153], [0, 0, 153]\n",
    "                # 6 = traffic light, 7 = traffic sign, 8 = vegetation\n",
    "                ,[76, 0, 153], [153, 0, 153], [153, 0, 76]\n",
    "                # 9 = terrain, 10 = sky, 11 = person\n",
    "                ,[255, 51, 51], [255, 153, 51], [255, 255, 51]\n",
    "                # 12 = rider, 13 = car, 14 = truck\n",
    "                ,[153, 255, 51], [51, 255, 51], [51, 255, 153]\n",
    "                # 15 = bus, 16 = train, 17 = motocycle\n",
    "                ,[51, 255, 255], [51,153,255],[51,51,255],[153,51,255],[255,52,255],[255,52,153], [192,192,192]]\n",
    "                # 18 = bicycle\n",
    "\n",
    "im_1 = im_2['segm_80']\n",
    "\n",
    "n_classes=25\n",
    "\n",
    "im4 = decode_labels(im_1,im_1.shape, 25, label_colours)\n",
    "\n",
    "with tf.Session() as sess:\n",
    "\n",
    "    f_im4= sess.run(im4)\n"
   ]
  },
  {
   "cell_type": "code",
   "execution_count": 31,
   "metadata": {},
   "outputs": [],
   "source": [
    "import math\n",
    "l,t,r,b = find_crops(im_1)"
   ]
  },
  {
   "cell_type": "code",
   "execution_count": 38,
   "metadata": {},
   "outputs": [
    {
     "name": "stdout",
     "output_type": "stream",
     "text": [
      "10 239 41 270\n"
     ]
    },
    {
     "name": "stderr",
     "output_type": "stream",
     "text": [
      "/home/blue/.virtualenvs/cv/lib/python3.6/site-packages/ipykernel_launcher.py:5: DeprecationWarning: `imresize` is deprecated!\n",
      "`imresize` is deprecated in SciPy 1.0.0, and will be removed in 1.2.0.\n",
      "Use ``skimage.transform.resize`` instead.\n",
      "  \"\"\"\n"
     ]
    },
    {
     "data": {
      "image/png": "[encoded data removed]",
      "text/plain": [
       "<matplotlib.figure.Figure at 0x7f903c11dba8>"
      ]
     },
     "metadata": {},
     "output_type": "display_data"
    }
   ],
   "source": [
    "plt.figure(figsize=(10,10))\n",
    "plt.scatter((im['joints2D'][:,:,79][0]-l)*320/(max(r-l,b-t)),(im['joints2D'][:,:,79][1]-t)*320/(max(r-l,b-t)),\n",
    "            color=\"red\", s=100)\n",
    "#plt.scatter(jointies[:,0],jointies[:,1])\n",
    "plt.imshow(sc.misc.imresize(crop(f_im4,l,t,r,b), (320,320), interp=\"nearest\"))\n",
    "plt.axis('off')\n",
    "plt.savefig(\"./written/final/Figures/surreal_joints.png\", bbox_inches = \"tight\")"
   ]
  },
  {
   "cell_type": "markdown",
   "metadata": {},
   "source": [
    "\n",
    "## crear archivo para joints"
   ]
  },
  {
   "cell_type": "code",
   "execution_count": 46,
   "metadata": {},
   "outputs": [],
   "source": [
    "def rad_original_file(which=\"train\"):\n",
    "    if which==\"train\":\n",
    "        file ='./hourglass/hourglasstensorlfow/list/train_cluster_list.txt'\n",
    "    elif which==\"eval\":\n",
    "        file = \"./hourglass/hourglasstensorlfow/list/eval_cluster_list.txt\"\n",
    "    else:\n",
    "        file =\"./hourglass/hourglasstensorlfow/list/test_cluster_list.txt\"\n",
    "        \n",
    "    data_dict = {}\n",
    "    train_table = []\n",
    "    input_file = open(file, 'r')\n",
    "    print('READING TRAIN DATA')\n",
    "    for line in input_file:\n",
    "        line = line.strip()\n",
    "        line = line.split(' ')\n",
    "        name = line[0]\n",
    "        gt_name = line[1]\n",
    "\n",
    "        data_dict[name] = {'gt_name' : gt_name}\n",
    "        train_table.append(name)\n",
    "            #lista de diccionarios con caja, coordin. de joints y weights de cada uno de los joints\n",
    "    input_file.close()\n",
    "    return data_dict, train_table"
   ]
  },
  {
   "cell_type": "code",
   "execution_count": 88,
   "metadata": {},
   "outputs": [],
   "source": [
    "def define_joints_file(which=\"train\"):\n",
    "    d_dict, table = rad_original_file(which)\n",
    "    if which==\"train\":\n",
    "        first_path = \"./SURREAL/cmu/cluster_mod_train_heal/\"\n",
    "        file_name = \"./hourglass/train_head.txt\"\n",
    "        \n",
    "    elif which==\"eval\":\n",
    "        first_path = \"./SURREAL/cmu/cluster_mod_eval_heal/\"\n",
    "        file_name = \"./hourglass/eval_head.txt\"\n",
    "    else:\n",
    "        first_path = \"./SURREAL/cmu/cluster_mod_test_heal/\"\n",
    "        file_name = \"./hourglass/test_head.txt\"\n",
    "    \n",
    "    with open(file_name, 'w') as f:\n",
    "        count = 0\n",
    "        for i in table:\n",
    "            gt_name = d_dict[i]['gt_name']\n",
    "            namy = os.path.join(first_path, gt_name)\n",
    "            im = imageio.imread(namy)\n",
    "            coord,s = joints(im, 24)\n",
    "            d_dict[i]['joints'] = coord\n",
    "            str1 = ' '.join(str(e) for e in list(coord.reshape(-1)))\n",
    "            f.write(i + \" \" + str1 + \"\\n\")\n",
    "            count += 1\n",
    "            if count % 2500 == 0: print(count)\n",
    "        f.close()\n",
    "    \n",
    "    \n",
    "    "
   ]
  },
  {
   "cell_type": "code",
   "execution_count": 51,
   "metadata": {},
   "outputs": [
    {
     "name": "stdout",
     "output_type": "stream",
     "text": [
      "READING TRAIN DATA\n"
     ]
    },
    {
     "ename": "KeyboardInterrupt",
     "evalue": "",
     "output_type": "error",
     "traceback": [
      "\u001b[0;31m---------------------------------------------------------------------------\u001b[0m",
      "\u001b[0;31mKeyboardInterrupt\u001b[0m                         Traceback (most recent call last)",
      "\u001b[0;32m<ipython-input-51-495c07f80155>\u001b[0m in \u001b[0;36m<module>\u001b[0;34m()\u001b[0m\n\u001b[0;32m----> 1\u001b[0;31m \u001b[0mdefine_joints_file\u001b[0m\u001b[0;34m(\u001b[0m\u001b[0;34m)\u001b[0m\u001b[0;34m\u001b[0m\u001b[0m\n\u001b[0m\u001b[1;32m      2\u001b[0m \u001b[0mdefine_joints_file\u001b[0m\u001b[0;34m(\u001b[0m\u001b[0;34m\"eval\"\u001b[0m\u001b[0;34m)\u001b[0m\u001b[0;34m\u001b[0m\u001b[0m\n\u001b[1;32m      3\u001b[0m \u001b[0mdefine_joints_file\u001b[0m\u001b[0;34m(\u001b[0m\u001b[0;34m\"test\"\u001b[0m\u001b[0;34m)\u001b[0m\u001b[0;34m\u001b[0m\u001b[0m\n",
      "\u001b[0;32m<ipython-input-50-663903c29dcd>\u001b[0m in \u001b[0;36mdefine_joints_file\u001b[0;34m(which)\u001b[0m\n\u001b[1;32m     18\u001b[0m             \u001b[0mnamy\u001b[0m \u001b[0;34m=\u001b[0m \u001b[0mos\u001b[0m\u001b[0;34m.\u001b[0m\u001b[0mpath\u001b[0m\u001b[0;34m.\u001b[0m\u001b[0mjoin\u001b[0m\u001b[0;34m(\u001b[0m\u001b[0mfirst_path\u001b[0m\u001b[0;34m,\u001b[0m \u001b[0mgt_name\u001b[0m\u001b[0;34m)\u001b[0m\u001b[0;34m\u001b[0m\u001b[0m\n\u001b[1;32m     19\u001b[0m             \u001b[0mim\u001b[0m \u001b[0;34m=\u001b[0m \u001b[0mimageio\u001b[0m\u001b[0;34m.\u001b[0m\u001b[0mimread\u001b[0m\u001b[0;34m(\u001b[0m\u001b[0mnamy\u001b[0m\u001b[0;34m)\u001b[0m\u001b[0;34m\u001b[0m\u001b[0m\n\u001b[0;32m---> 20\u001b[0;31m             \u001b[0mcoord\u001b[0m\u001b[0;34m,\u001b[0m\u001b[0ms\u001b[0m \u001b[0;34m=\u001b[0m \u001b[0mjoints\u001b[0m\u001b[0;34m(\u001b[0m\u001b[0mim\u001b[0m\u001b[0;34m,\u001b[0m \u001b[0;36m24\u001b[0m\u001b[0;34m)\u001b[0m\u001b[0;34m\u001b[0m\u001b[0m\n\u001b[0m\u001b[1;32m     21\u001b[0m             \u001b[0md_dict\u001b[0m\u001b[0;34m[\u001b[0m\u001b[0mi\u001b[0m\u001b[0;34m]\u001b[0m\u001b[0;34m[\u001b[0m\u001b[0;34m'joints'\u001b[0m\u001b[0;34m]\u001b[0m \u001b[0;34m=\u001b[0m \u001b[0mcoord\u001b[0m\u001b[0;34m\u001b[0m\u001b[0m\n\u001b[1;32m     22\u001b[0m             \u001b[0mstr1\u001b[0m \u001b[0;34m=\u001b[0m \u001b[0;34m' '\u001b[0m\u001b[0;34m.\u001b[0m\u001b[0mjoin\u001b[0m\u001b[0;34m(\u001b[0m\u001b[0mstr\u001b[0m\u001b[0;34m(\u001b[0m\u001b[0me\u001b[0m\u001b[0;34m)\u001b[0m \u001b[0;32mfor\u001b[0m \u001b[0me\u001b[0m \u001b[0;32min\u001b[0m \u001b[0mlist\u001b[0m\u001b[0;34m(\u001b[0m\u001b[0mcoord\u001b[0m\u001b[0;34m.\u001b[0m\u001b[0mreshape\u001b[0m\u001b[0;34m(\u001b[0m\u001b[0;34m-\u001b[0m\u001b[0;36m1\u001b[0m\u001b[0;34m)\u001b[0m\u001b[0;34m)\u001b[0m\u001b[0;34m)\u001b[0m\u001b[0;34m\u001b[0m\u001b[0m\n",
      "\u001b[0;32m<ipython-input-5-6ae47555ccad>\u001b[0m in \u001b[0;36mjoints\u001b[0;34m(image, n_joints)\u001b[0m\n\u001b[1;32m      3\u001b[0m     \u001b[0;32mfor\u001b[0m \u001b[0mi\u001b[0m \u001b[0;32min\u001b[0m \u001b[0mrange\u001b[0m\u001b[0;34m(\u001b[0m\u001b[0;36m1\u001b[0m\u001b[0;34m,\u001b[0m \u001b[0mn_joints\u001b[0m\u001b[0;34m+\u001b[0m\u001b[0;36m1\u001b[0m\u001b[0;34m)\u001b[0m\u001b[0;34m:\u001b[0m\u001b[0;34m\u001b[0m\u001b[0m\n\u001b[1;32m      4\u001b[0m         \u001b[0mn_im\u001b[0m \u001b[0;34m=\u001b[0m \u001b[0mnp\u001b[0m\u001b[0;34m.\u001b[0m\u001b[0mwhere\u001b[0m\u001b[0;34m(\u001b[0m\u001b[0mimage\u001b[0m\u001b[0;34m==\u001b[0m\u001b[0mi\u001b[0m\u001b[0;34m,\u001b[0m\u001b[0;36m1\u001b[0m\u001b[0;34m,\u001b[0m\u001b[0;36m0\u001b[0m\u001b[0;34m)\u001b[0m\u001b[0;34m\u001b[0m\u001b[0m\n\u001b[0;32m----> 5\u001b[0;31m         \u001b[0mx\u001b[0m\u001b[0;34m,\u001b[0m\u001b[0my\u001b[0m\u001b[0;34m,\u001b[0m\u001b[0msize\u001b[0m \u001b[0;34m=\u001b[0m \u001b[0mfind_joints_box\u001b[0m\u001b[0;34m(\u001b[0m\u001b[0mn_im\u001b[0m\u001b[0;34m)\u001b[0m\u001b[0;34m\u001b[0m\u001b[0m\n\u001b[0m\u001b[1;32m      6\u001b[0m         \u001b[0mcoords\u001b[0m\u001b[0;34m[\u001b[0m\u001b[0mi\u001b[0m\u001b[0;34m-\u001b[0m\u001b[0;36m1\u001b[0m\u001b[0;34m]\u001b[0m \u001b[0;34m=\u001b[0m \u001b[0mx\u001b[0m\u001b[0;34m,\u001b[0m\u001b[0my\u001b[0m\u001b[0;34m\u001b[0m\u001b[0m\n\u001b[1;32m      7\u001b[0m \u001b[0;34m\u001b[0m\u001b[0m\n",
      "\u001b[0;32m<ipython-input-1-4bb467b4fa4c>\u001b[0m in \u001b[0;36mfind_joints_box\u001b[0;34m(im, perc_w, perc_h)\u001b[0m\n\u001b[1;32m     22\u001b[0m                 \u001b[0;32mbreak\u001b[0m\u001b[0;34m\u001b[0m\u001b[0m\n\u001b[1;32m     23\u001b[0m         \u001b[0;32mfor\u001b[0m \u001b[0mi\u001b[0m \u001b[0;32min\u001b[0m \u001b[0mrange\u001b[0m\u001b[0;34m(\u001b[0m\u001b[0mshapy\u001b[0m\u001b[0;34m[\u001b[0m\u001b[0;36m0\u001b[0m\u001b[0;34m]\u001b[0m\u001b[0;34m-\u001b[0m\u001b[0;36m1\u001b[0m\u001b[0;34m,\u001b[0m\u001b[0;34m-\u001b[0m\u001b[0;36m1\u001b[0m\u001b[0;34m,\u001b[0m\u001b[0;34m-\u001b[0m\u001b[0;36m1\u001b[0m\u001b[0;34m)\u001b[0m\u001b[0;34m:\u001b[0m\u001b[0;34m\u001b[0m\u001b[0m\n\u001b[0;32m---> 24\u001b[0;31m             \u001b[0;32mif\u001b[0m \u001b[0mim\u001b[0m\u001b[0;34m[\u001b[0m\u001b[0mi\u001b[0m\u001b[0;34m,\u001b[0m\u001b[0mj\u001b[0m\u001b[0;34m]\u001b[0m \u001b[0;34m!=\u001b[0m \u001b[0;36m0\u001b[0m\u001b[0;34m:\u001b[0m\u001b[0;34m\u001b[0m\u001b[0m\n\u001b[0m\u001b[1;32m     25\u001b[0m                 \u001b[0mbottom\u001b[0m\u001b[0;34m.\u001b[0m\u001b[0mappend\u001b[0m\u001b[0;34m(\u001b[0m\u001b[0mi\u001b[0m\u001b[0;34m)\u001b[0m\u001b[0;34m\u001b[0m\u001b[0m\n\u001b[1;32m     26\u001b[0m                 \u001b[0;32mbreak\u001b[0m\u001b[0;34m\u001b[0m\u001b[0m\n",
      "\u001b[0;31mKeyboardInterrupt\u001b[0m: "
     ]
    }
   ],
   "source": [
    "define_joints_file()\n",
    "define_joints_file(\"eval\")\n",
    "define_joints_file(\"test\")"
   ]
  },
  {
   "cell_type": "markdown",
   "metadata": {},
   "source": [
    "## crear archivo con los joints del original dataset"
   ]
  },
  {
   "cell_type": "code",
   "execution_count": 51,
   "metadata": {},
   "outputs": [],
   "source": [
    "def create_joints_file(which=\"train\"):\n",
    "    d_dict, table = rad_original_file(which)\n",
    "    print(\"File creation begun\")\n",
    "    if which==\"train\":\n",
    "        first_path = \"./SURREAL/cmu/train/run0/\"\n",
    "        file_name = \"./hourglass/train_joints.txt\"\n",
    "        \n",
    "    elif which==\"eval\":\n",
    "        first_path = \"./SURREAL/cmu/val/run0/\"\n",
    "        file_name = \"./hourglass/eval_joints.txt\"\n",
    "    else:\n",
    "        first_path = \"./SURREAL/cmu/test/run0/\"\n",
    "        file_name = \"./hourglass/test_joints.txt\"\n",
    "    \n",
    "    with open(file_name, 'w') as f:\n",
    "        count = 0\n",
    "        for i in table:\n",
    "            gt_name = d_dict[i]['gt_name']\n",
    "            namy = os.path.join(first_path, gt_name)\n",
    "            coord = obtain_path_n_joints(gt_name, first_path)\n",
    "            d_dict[i]['joints'] = coord.reshape(-1,2)\n",
    "            str1 = ' '.join(str(e) for e in list(coord.reshape(-1)))\n",
    "            f.write(i + \" \" + str1 + \"\\n\")\n",
    "            count += 1\n",
    "            if count % 1000 == 0: print(count);\n",
    "        f.close()\n",
    "    "
   ]
  },
  {
   "cell_type": "code",
   "execution_count": 52,
   "metadata": {},
   "outputs": [],
   "source": [
    "def obtain_path_n_joints(gt, root):\n",
    "    \n",
    "    parts = gt.split(\"/\")[1].split(\"_\")\n",
    "    \n",
    "    if parts[0] == \"ung\":\n",
    "        next_1 = \"_\".join(parts[:3])\n",
    "        next_2 = \"_\".join([\"_\".join(parts[:4]), \"info.mat\"])\n",
    "        next_3 = \"_\".join([\"_\".join(parts[:4]), \"segm.mat\"])\n",
    "        number = parts[-1].split(\".\")[0]\n",
    "        name = str(\"segm_\"+ str(number))\n",
    "    else:\n",
    "        next_1 = \"_\".join(parts[:2])\n",
    "        next_2 = \"_\".join([\"_\".join(parts[:3]), \"info.mat\"])\n",
    "        next_3 = \"_\".join([\"_\".join(parts[:3]), \"segm.mat\"])\n",
    "        number = parts[-1].split(\".\")[0]\n",
    "        name = str(\"segm_\"+ str(number))\n",
    "        \n",
    "    complete_path = os.path.join(root, next_1, next_2)\n",
    "    complete_2  = os.path.join(root, next_1, next_3)\n",
    "    im = scio.loadmat(complete_path)\n",
    "    n_im = scio.loadmat(complete_2)[name]\n",
    "    l,t,r,b = find_crops(n_im)\n",
    "    w = r-l\n",
    "    \n",
    "    joints_x = ((im['joints2D'][:,:,int(number)-1][0]-l)*320/(w+0.000001)).astype(np.int32)\n",
    "    joints_y = ((im['joints2D'][:,:,int(number)-1][1]-t)*320/(w+0.000001)).astype(np.int32)\n",
    "    joints= np.c_[joints_x, joints_y]\n",
    "    \n",
    "    return joints"
   ]
  },
  {
   "cell_type": "code",
   "execution_count": 53,
   "metadata": {},
   "outputs": [
    {
     "name": "stdout",
     "output_type": "stream",
     "text": [
      "READING TRAIN DATA\n",
      "File creation begun\n",
      "1000\n",
      "2000\n",
      "3000\n",
      "4000\n",
      "5000\n",
      "6000\n",
      "7000\n",
      "8000\n",
      "9000\n",
      "10000\n",
      "11000\n",
      "12000\n",
      "13000\n",
      "14000\n",
      "15000\n",
      "16000\n",
      "17000\n",
      "18000\n",
      "19000\n",
      "20000\n",
      "21000\n",
      "22000\n",
      "23000\n",
      "24000\n",
      "25000\n",
      "26000\n",
      "27000\n",
      "28000\n",
      "29000\n",
      "30000\n",
      "31000\n",
      "32000\n",
      "33000\n",
      "34000\n",
      "35000\n",
      "36000\n",
      "37000\n",
      "38000\n",
      "39000\n",
      "40000\n",
      "41000\n",
      "42000\n",
      "43000\n",
      "44000\n",
      "45000\n",
      "46000\n",
      "47000\n",
      "48000\n",
      "49000\n",
      "50000\n",
      "51000\n",
      "52000\n",
      "53000\n",
      "54000\n",
      "55000\n",
      "56000\n",
      "57000\n",
      "58000\n",
      "59000\n",
      "60000\n",
      "61000\n",
      "62000\n",
      "63000\n",
      "64000\n",
      "65000\n",
      "66000\n",
      "67000\n",
      "68000\n",
      "69000\n",
      "70000\n",
      "71000\n",
      "72000\n",
      "73000\n",
      "74000\n",
      "75000\n",
      "76000\n",
      "77000\n",
      "78000\n",
      "79000\n",
      "80000\n",
      "81000\n",
      "82000\n",
      "83000\n",
      "84000\n",
      "85000\n",
      "86000\n",
      "87000\n",
      "88000\n",
      "89000\n",
      "90000\n",
      "91000\n",
      "92000\n",
      "READING TRAIN DATA\n",
      "File creation begun\n",
      "1000\n",
      "2000\n",
      "3000\n",
      "4000\n",
      "5000\n",
      "6000\n",
      "7000\n",
      "8000\n",
      "9000\n",
      "10000\n",
      "11000\n",
      "12000\n",
      "13000\n",
      "14000\n",
      "15000\n",
      "READING TRAIN DATA\n",
      "File creation begun\n",
      "1000\n",
      "2000\n",
      "3000\n",
      "4000\n",
      "5000\n",
      "6000\n",
      "7000\n",
      "8000\n",
      "9000\n",
      "10000\n",
      "11000\n",
      "12000\n",
      "13000\n",
      "14000\n",
      "15000\n",
      "16000\n"
     ]
    }
   ],
   "source": [
    "create_joints_file()\n",
    "create_joints_file(\"eval\")\n",
    "create_joints_file(\"test\")"
   ]
  },
  {
   "cell_type": "markdown",
   "metadata": {},
   "source": [
    "## Pasar joints relativos"
   ]
  },
  {
   "cell_type": "code",
   "execution_count": 42,
   "metadata": {},
   "outputs": [],
   "source": [
    "import scipy as sc\n",
    "import scipy.io as scio\n",
    "from scipy import ndimage, misc\n",
    "import numpy as np\n",
    "import matplotlib.pyplot as plt\n",
    "import os\n",
    "from collections import Counter\n",
    "import imageio\n",
    "from skimage.transform import resize,rescale, rotate\n",
    "import math"
   ]
  },
  {
   "cell_type": "code",
   "execution_count": 41,
   "metadata": {},
   "outputs": [],
   "source": [
    "def find_crops(im,perc_w =0.1, perc_h=0.1):\n",
    "    shapy = im.shape\n",
    "    left = []\n",
    "    right = []\n",
    "    top = []\n",
    "    bottom = []\n",
    "\n",
    "    for i in range(shapy[0]):\n",
    "        for j in range(shapy[1]):\n",
    "            if im[i,j] != 0:\n",
    "                left.append(j)\n",
    "                break\n",
    "        for j in range(shapy[1]-1,-1,-1):\n",
    "            if im[i,j] != 0:\n",
    "                right.append(j)\n",
    "                break\n",
    "\n",
    "    for j in range(shapy[1]):\n",
    "        for i in range(shapy[0]):\n",
    "            if im[i,j] != 0:\n",
    "                top.append(i)\n",
    "                break\n",
    "        for i in range(shapy[0]-1,-1,-1):\n",
    "            if im[i,j] != 0:\n",
    "                bottom.append(i)\n",
    "                break\n",
    "    try:\n",
    "        f_left = np.min(left)\n",
    "        f_right = np.max(right)\n",
    "        f_top = np.min(top)\n",
    "        f_bottom = np.max(bottom)\n",
    "\n",
    "        width = f_right -f_left\n",
    "        height = f_bottom -f_top\n",
    "\n",
    "        wth_plus = width*perc_w\n",
    "        hgt_plus= height*perc_h\n",
    "\n",
    "        f_left = int(round(f_left - wth_plus,0))\n",
    "        f_right = int(round(f_right + wth_plus,0))\n",
    "        f_top = int(round(f_top - hgt_plus,0))\n",
    "        f_bottom = int(round(f_bottom + hgt_plus,0))\n",
    "\n",
    "        new_w = f_right - f_left\n",
    "        new_h = f_bottom - f_top\n",
    "\n",
    "        if new_h > new_w:\n",
    "            center = f_left + new_w/2\n",
    "            f_left = int(math.ceil(center - new_h/2))\n",
    "            f_right = int(math.ceil(center + new_h/2))\n",
    "        else:\n",
    "            center = f_top + new_h/2\n",
    "            f_top = int(math.ceil(center - new_w/2))\n",
    "            f_bottom = int(math.ceil(center + new_w/2))\n",
    "\n",
    "        if f_left < 0: \n",
    "            residual = -f_left\n",
    "            f_left = 0\n",
    "            f_right = f_right + residual\n",
    "        if f_right > shapy[1]-1: \n",
    "            residual = f_right -(shapy[1]-1)\n",
    "            f_right = shapy[1]-1\n",
    "            f_left = f_left -residual\n",
    "        if f_top < 0:\n",
    "            residual = -f_top\n",
    "            f_top = 0\n",
    "            f_bottom = f_bottom + residual\n",
    "        if f_bottom > shapy[0]-1: \n",
    "            residual = f_bottom -(shapy[0]-1)\n",
    "            f_bottom = shapy[0]-1\n",
    "            f_top = f_top -residual\n",
    "\n",
    "        if f_left < 0: f_left = 0\n",
    "        if f_right > shapy[1]-1: f_right = shapy[1]-1\n",
    "        if f_top < 0: f_top = 0\n",
    "        if f_bottom > shapy[0]-1:f_bottom = shapy[0]-1\n",
    "            \n",
    "        if np.abs(f_right-f_left-(f_bottom-f_top)) == 1:\n",
    "            if f_bottom-f_top > f_right-f_left:\n",
    "                if f_left != 0:\n",
    "                    f_left -= 1\n",
    "                else:\n",
    "                    f_right +=1\n",
    "            if f_bottom-f_top < f_right-f_left:\n",
    "                if f_top != 0:\n",
    "                    f_top -= 1\n",
    "                else:\n",
    "                    f_bottom +=1  \n",
    "\n",
    "        if f_right-f_left != f_bottom-f_top:\n",
    "            if shapy[0] == np.min(shapy):\n",
    "                if f_right-f_left > shapy[0]-1:\n",
    "                    center = f_left + (f_right-f_left)/2\n",
    "                    f_left = int(math.ceil(center - (shapy[0]-1)/2))\n",
    "                    f_right = int(math.ceil(center +(shapy[0]-1)/2))\n",
    "                if f_right-f_left < shapy[0]-1:\n",
    "                    if f_left == 0:\n",
    "                        f_right = shapy[0]-1\n",
    "                    if f_right == shapy[1]-1:\n",
    "                        f_left = f_left - (shapy[0]-(f_right-f_left))\n",
    "            if shapy[1] == np.min(shapy):\n",
    "                if f_bottom-f_top > shapy[1]:\n",
    "\n",
    "                    center = f_top + (f_bottom-f_top)/2\n",
    "                    f_top = int(math.ceil(center - (shapy[1]-1)/2))\n",
    "                    f_bottom= int(math.ceil(center +(shapy[1]-1)/2))\n",
    "                if f_bottom-f_top < shapy[1]-1:\n",
    "                    if f_top == 0:\n",
    "                        f_bottom = shapy[1]-1\n",
    "                    if f_bottom == shapy[0]-1:\n",
    "                        f_top = f_top - (shapy[1]-(f_bottom-f_top))\n",
    "\n",
    "\n",
    "    except ValueError:\n",
    "        if shapy[0] == np.min(shapy):\n",
    "            f_left = 0\n",
    "            f_right = shapy[0]-1\n",
    "            f_bottom = shapy[0]-1\n",
    "            f_top = 0\n",
    "        if shapy[1]== np.min(shapy):\n",
    "            f_left = 0\n",
    "            f_right = shapy[1]-1\n",
    "            f_bottom = shapy[1]-1\n",
    "            f_top = 0\n",
    "        \n",
    "    assert f_right-f_left == f_bottom-f_top\n",
    "    \n",
    "    return f_left,f_top,f_right,f_bottom\n",
    "\n",
    "def crop(im, f_left,f_top,f_right, f_bottom):\n",
    "    new_im = im[f_top:f_bottom, f_left:f_right]\n",
    "    print(f_top, f_bottom, f_left,f_right)\n",
    "    return new_im\n",
    "\n",
    "def resizeim(new_im, shapy):\n",
    "    final_im = sc.misc.imresize(new_im, shapy, interp=\"nearest\")\n",
    "    return final_im\n"
   ]
  },
  {
   "cell_type": "code",
   "execution_count": 63,
   "metadata": {},
   "outputs": [],
   "source": [
    "im_2 = scio.loadmat('SURREAL/cmu/train/run0/01_01/01_01_c0001_segm.mat')\n",
    "im = scio.loadmat('SURREAL/cmu/train/run0/01_01/01_01_c0001_info.mat')\n",
    "seg1 = im_2['segm_1']"
   ]
  },
  {
   "cell_type": "code",
   "execution_count": 64,
   "metadata": {},
   "outputs": [
    {
     "name": "stdout",
     "output_type": "stream",
     "text": [
      "21 229 51 259\n",
      "(208, 208)\n"
     ]
    },
    {
     "name": "stderr",
     "output_type": "stream",
     "text": [
      "/home/blue/.virtualenvs/cv/lib/python3.6/site-packages/ipykernel_launcher.py:136: DeprecationWarning: `imresize` is deprecated!\n",
      "`imresize` is deprecated in SciPy 1.0.0, and will be removed in 1.2.0.\n",
      "Use ``skimage.transform.resize`` instead.\n"
     ]
    },
    {
     "data": {
      "text/plain": [
       "<matplotlib.collections.PathCollection at 0x7f901d327e80>"
      ]
     },
     "execution_count": 64,
     "metadata": {},
     "output_type": "execute_result"
    },
    {
     "data": {
      "image/png": "[encoded data removed]",
      "text/plain": [
       "<matplotlib.figure.Figure at 0x7f901d354898>"
      ]
     },
     "metadata": {},
     "output_type": "display_data"
    }
   ],
   "source": [
    "l,t,r,b = find_crops(im_2['segm_1'])\n",
    "new_im =crop(im_2['segm_1'],l,t,r,b)\n",
    "print(new_im.shape)\n",
    "plt.figure(figsize=(10,10))\n",
    "dif_x,dif_y = 320-new_im.shape[0], 240-new_im.shape[1]\n",
    "#plt.imshow(new_im)\n",
    "#plt.scatter(im['joints2D'][:,:,0][0]-51,im['joints2D'][:,:,0][1]-21, c='red')\n",
    "plt.imshow(resizeim(new_im, (320,320)))\n",
    "plt.scatter((im['joints2D'][:,:,0][0]-51)*320/208,\n",
    "            (im['joints2D'][:,:,0][1]-21)*320/208)"
   ]
  },
  {
   "cell_type": "code",
   "execution_count": 83,
   "metadata": {},
   "outputs": [
    {
     "data": {
      "text/plain": [
       "array([[170, 147],\n",
       "       [180, 161],\n",
       "       [163, 161],\n",
       "       [175, 132],\n",
       "       [192, 218],\n",
       "       [156, 221],\n",
       "       [175, 110],\n",
       "       [196, 281],\n",
       "       [169, 284],\n",
       "       [173, 101],\n",
       "       [192, 286],\n",
       "       [153, 290],\n",
       "       [175,  67],\n",
       "       [186,  81],\n",
       "       [164,  83],\n",
       "       [172,  58],\n",
       "       [198,  81],\n",
       "       [150,  84],\n",
       "       [196, 104],\n",
       "       [146, 124],\n",
       "       [181,  70],\n",
       "       [132, 161],\n",
       "       [184,  58],\n",
       "       [124, 173]], dtype=int32)"
      ]
     },
     "execution_count": 83,
     "metadata": {},
     "output_type": "execute_result"
    }
   ],
   "source": [
    "joints_x = ((im['joints2D'][:,:,0][0]-51)*320/208).astype(np.int32)\n",
    "joints_y = ((im['joints2D'][:,:,0][1]-21)*320/208).astype(np.int32)\n",
    "joints = joints_x,joints_y\n",
    "np.c_[joints]"
   ]
  },
  {
   "cell_type": "code",
   "execution_count": 79,
   "metadata": {},
   "outputs": [
    {
     "data": {
      "text/plain": [
       "array([[170, 147],\n",
       "       [180, 161],\n",
       "       [163, 161],\n",
       "       [175, 132],\n",
       "       [192, 218],\n",
       "       [156, 221],\n",
       "       [175, 110],\n",
       "       [196, 281],\n",
       "       [169, 284],\n",
       "       [173, 101],\n",
       "       [192, 286],\n",
       "       [153, 290],\n",
       "       [175,  67],\n",
       "       [186,  81],\n",
       "       [164,  83],\n",
       "       [172,  58],\n",
       "       [198,  81],\n",
       "       [150,  84],\n",
       "       [196, 104],\n",
       "       [146, 124],\n",
       "       [181,  70],\n",
       "       [132, 161],\n",
       "       [184,  58],\n",
       "       [124, 173]], dtype=int32)"
      ]
     },
     "execution_count": 79,
     "metadata": {},
     "output_type": "execute_result"
    }
   ],
   "source": [
    "joints.reshape(-1,2)"
   ]
  },
  {
   "cell_type": "markdown",
   "metadata": {},
   "source": [
    "### Comprobacion joints"
   ]
  },
  {
   "cell_type": "code",
   "execution_count": 54,
   "metadata": {},
   "outputs": [],
   "source": [
    "input_file = open(\"./hourglass/train_joints.txt\", 'r')\n",
    "for line in input_file:\n",
    "    line = line.strip()\n",
    "    line = line.split(' ')\n",
    "    name = line[0]\n",
    "    joints = list(map(int,line[1:]))\n",
    "    joints = np.reshape(joints, (-1,2))\n",
    "    break"
   ]
  },
  {
   "cell_type": "code",
   "execution_count": 55,
   "metadata": {},
   "outputs": [],
   "source": [
    "im = imageio.imread(\"./SURREAL/cmu/cluster_mod_train_heal/\" + name)"
   ]
  },
  {
   "cell_type": "code",
   "execution_count": 56,
   "metadata": {},
   "outputs": [
    {
     "data": {
      "text/plain": [
       "<matplotlib.collections.PathCollection at 0x7f9046244ac8>"
      ]
     },
     "execution_count": 56,
     "metadata": {},
     "output_type": "execute_result"
    },
    {
     "data": {
      "image/png": "[encoded data removed]",
      "text/plain": [
       "<matplotlib.figure.Figure at 0x7f904466e630>"
      ]
     },
     "metadata": {},
     "output_type": "display_data"
    }
   ],
   "source": [
    "plt.imshow(im)\n",
    "plt.scatter(joints[:,0], joints[:,1])"
   ]
  },
  {
   "cell_type": "code",
   "execution_count": null,
   "metadata": {},
   "outputs": [],
   "source": []
  },
  {
   "cell_type": "code",
   "execution_count": null,
   "metadata": {},
   "outputs": [],
   "source": []
  }
 ],
 "metadata": {
  "kernelspec": {
   "display_name": "Python 3",
   "language": "python",
   "name": "python3"
  },
  "language_info": {
   "codemirror_mode": {
    "name": "ipython",
    "version": 3
   },
   "file_extension": ".py",
   "mimetype": "text/x-python",
   "name": "python",
   "nbconvert_exporter": "python",
   "pygments_lexer": "ipython3",
   "version": "3.6.3"
  }
 },
 "nbformat": 4,
 "nbformat_minor": 2
}
